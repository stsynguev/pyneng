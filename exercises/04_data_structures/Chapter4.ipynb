{
 "cells": [
  {
   "cell_type": "code",
   "execution_count": 185,
   "id": "efd9183c",
   "metadata": {},
   "outputs": [],
   "source": [
    "import subprocess\n",
    "def ping_ip(ip_address):\n",
    "        reply = subprocess.run(['ping','-c','3','-n',ip_address],stdout=subprocess.PIPE,stderr=subprocess.PIPE,encoding='utf-8')\n",
    "        if reply.returncode == 0:\n",
    "            return True\n",
    "        else:\n",
    "            return False\n"
   ]
  },
  {
   "cell_type": "code",
   "execution_count": 188,
   "id": "e6727e53",
   "metadata": {},
   "outputs": [
    {
     "name": "stdout",
     "output_type": "stream",
     "text": [
      "CPU times: user 6.93 ms, sys: 482 µs, total: 7.41 ms\n",
      "Wall time: 3.04 s\n"
     ]
    },
    {
     "data": {
      "text/plain": [
       "True"
      ]
     },
     "execution_count": 188,
     "metadata": {},
     "output_type": "execute_result"
    }
   ],
   "source": [
    "%time ping_ip('8.8.8.8')"
   ]
  },
  {
   "cell_type": "code",
   "execution_count": 202,
   "id": "7874f93d",
   "metadata": {},
   "outputs": [],
   "source": [
    "alias d ls -F"
   ]
  },
  {
   "cell_type": "code",
   "execution_count": 239,
   "id": "4a48b381",
   "metadata": {},
   "outputs": [
    {
     "data": {
      "text/plain": [
       "3.33"
      ]
     },
     "execution_count": 239,
     "metadata": {},
     "output_type": "execute_result"
    }
   ],
   "source": [
    "round(10/3,2)\n"
   ]
  },
  {
   "cell_type": "code",
   "execution_count": 241,
   "id": "754be324",
   "metadata": {},
   "outputs": [
    {
     "data": {
      "text/plain": [
       "1"
      ]
     },
     "execution_count": 241,
     "metadata": {},
     "output_type": "execute_result"
    }
   ],
   "source": [
    "10%3"
   ]
  },
  {
   "cell_type": "code",
   "execution_count": 244,
   "id": "88b32be8",
   "metadata": {},
   "outputs": [],
   "source": [
    "a='11'"
   ]
  },
  {
   "cell_type": "code",
   "execution_count": 246,
   "id": "8b50d758",
   "metadata": {},
   "outputs": [
    {
     "data": {
      "text/plain": [
       "'11'"
      ]
     },
     "execution_count": 246,
     "metadata": {},
     "output_type": "execute_result"
    }
   ],
   "source": [
    "a"
   ]
  },
  {
   "cell_type": "code",
   "execution_count": 255,
   "id": "9e32ff47",
   "metadata": {},
   "outputs": [
    {
     "data": {
      "text/plain": [
       "6"
      ]
     },
     "execution_count": 255,
     "metadata": {},
     "output_type": "execute_result"
    }
   ],
   "source": [
    "int(a,5)"
   ]
  },
  {
   "cell_type": "code",
   "execution_count": 257,
   "id": "3cc80258",
   "metadata": {},
   "outputs": [
    {
     "data": {
      "text/plain": [
       "'0b101'"
      ]
     },
     "execution_count": 257,
     "metadata": {},
     "output_type": "execute_result"
    }
   ],
   "source": [
    "bin(5)"
   ]
  },
  {
   "cell_type": "code",
   "execution_count": 272,
   "id": "24c8b217",
   "metadata": {},
   "outputs": [],
   "source": [
    "tunnel = \"\"\"\n",
    "interface tunnel0\n",
    "    ip address 10.10.10.1 255.255.255.0\n",
    "    ip mtu 1416\n",
    "    ip ospf hello-interval 5\n",
    "    tunnel source FastEthernet1/0\n",
    "    tunnel protection ipsec profile DMVPN\n",
    "\"\"\""
   ]
  },
  {
   "cell_type": "code",
   "execution_count": 273,
   "id": "33494c2f",
   "metadata": {},
   "outputs": [
    {
     "data": {
      "text/plain": [
       "'\\ninterface tunnel0\\n    ip address 10.10.10.1 255.255.255.0\\n    ip mtu 1416\\n    ip ospf hello-interval 5\\n    tunnel source FastEthernet1/0\\n    tunnel protection ipsec profile DMVPN\\n'"
      ]
     },
     "execution_count": 273,
     "metadata": {},
     "output_type": "execute_result"
    }
   ],
   "source": [
    "tunnel"
   ]
  },
  {
   "cell_type": "code",
   "execution_count": 274,
   "id": "ad6372ca",
   "metadata": {},
   "outputs": [
    {
     "name": "stdout",
     "output_type": "stream",
     "text": [
      "\n",
      "interface tunnel0\n",
      "    ip address 10.10.10.1 255.255.255.0\n",
      "    ip mtu 1416\n",
      "    ip ospf hello-interval 5\n",
      "    tunnel source FastEthernet1/0\n",
      "    tunnel protection ipsec profile DMVPN\n",
      "\n"
     ]
    }
   ],
   "source": [
    "print(tunnel)"
   ]
  },
  {
   "cell_type": "code",
   "execution_count": 282,
   "id": "bfa4f57b",
   "metadata": {},
   "outputs": [
    {
     "data": {
      "text/plain": [
       "'interface          tunnel0tunnel0tunnel0tunnel0tunnel0tunnel0tunnel0tunnel0tunnel0tunnel0tunnel0tunnel0tunnel0tunnel0tunnel0tunnel0tunnel0tunnel0tunnel0tunnel0tunnel0tunnel0'"
      ]
     },
     "execution_count": 282,
     "metadata": {},
     "output_type": "execute_result"
    }
   ],
   "source": [
    "intf = 'interface'\n",
    "tun = 'tunnel0'\n",
    "intf+' '*10+tun*22"
   ]
  },
  {
   "cell_type": "code",
   "execution_count": 308,
   "id": "5614756d",
   "metadata": {},
   "outputs": [
    {
     "data": {
      "text/plain": [
       "True"
      ]
     },
     "execution_count": 308,
     "metadata": {},
     "output_type": "execute_result"
    }
   ],
   "source": [
    "string1 = 'interface tunnel0'\n",
    "string1[-1]\n",
    "string1[::]\n",
    "string1[-7:]\n",
    "len(string1)\n",
    "string1.capitalize()\n",
    "string1.count('t')\n",
    "string1.startswith((\"i\",\"t\"))"
   ]
  },
  {
   "cell_type": "code",
   "execution_count": 1,
   "id": "d598ef25",
   "metadata": {},
   "outputs": [
    {
     "data": {
      "text/plain": [
       "['10', '20', '30', '100-200']"
      ]
     },
     "execution_count": 1,
     "metadata": {},
     "output_type": "execute_result"
    }
   ],
   "source": [
    "string1='switchport trunk allowed vlan 10,20,30,100-200\\n\\n'\n",
    "string1=string1.strip()\n",
    "vlans = string1.split()[4].split(',')\n",
    "vlans\n"
   ]
  },
  {
   "cell_type": "code",
   "execution_count": 2,
   "id": "b74ee3f3",
   "metadata": {},
   "outputs": [
    {
     "data": {
      "text/plain": [
       "'interface FastEthernet0/1'"
      ]
     },
     "execution_count": 2,
     "metadata": {},
     "output_type": "execute_result"
    }
   ],
   "source": [
    "\"interface FastEthernet0/{}\".format('1')"
   ]
  },
  {
   "cell_type": "code",
   "execution_count": 4,
   "id": "b0d50d7a",
   "metadata": {},
   "outputs": [
    {
     "name": "stdout",
     "output_type": "stream",
     "text": [
      "10.1.1.1\n"
     ]
    }
   ],
   "source": [
    "print('{}'.format('10.1.1.1'))"
   ]
  },
  {
   "cell_type": "code",
   "execution_count": 6,
   "id": "c5ea42e3",
   "metadata": {},
   "outputs": [
    {
     "name": "stdout",
     "output_type": "stream",
     "text": [
      "100\n"
     ]
    }
   ],
   "source": [
    "print('{}'.format(100))"
   ]
  },
  {
   "cell_type": "code",
   "execution_count": 8,
   "id": "c4daf04c",
   "metadata": {},
   "outputs": [
    {
     "name": "stdout",
     "output_type": "stream",
     "text": [
      "[10, 1, 1, 1]\n"
     ]
    }
   ],
   "source": [
    "print('{}'.format([10,1,1,1]))"
   ]
  },
  {
   "cell_type": "code",
   "execution_count": 14,
   "id": "46cbe7fe",
   "metadata": {},
   "outputs": [
    {
     "name": "stdout",
     "output_type": "stream",
     "text": [
      "            100  abbb.aa41.dsd2           Gi0/1\n"
     ]
    }
   ],
   "source": [
    "vlan, mac, intf = ['100','abbb.aa41.dsd2','Gi0/1']\n",
    "print(\"{:>15} {:>15} {:>15}\".format(vlan,mac,intf))"
   ]
  },
  {
   "cell_type": "code",
   "execution_count": 19,
   "id": "2ff86211",
   "metadata": {},
   "outputs": [
    {
     "name": "stdout",
     "output_type": "stream",
     "text": [
      "100             abbb.aa41.dsd2  Gi0/1          \n"
     ]
    }
   ],
   "source": [
    "vlan, mac, intf = ['100','abbb.aa41.dsd2','Gi0/1']\n",
    "print(\"{:<15} {:<15} {:<15}\".format(vlan,mac,intf))"
   ]
  },
  {
   "cell_type": "code",
   "execution_count": 22,
   "id": "6cd2266d",
   "metadata": {},
   "outputs": [],
   "source": [
    "ip_template = ''' \n",
    "    IP address:\n",
    "    {}\n",
    "    '''"
   ]
  },
  {
   "cell_type": "code",
   "execution_count": 23,
   "id": "6685b54b",
   "metadata": {},
   "outputs": [
    {
     "name": "stdout",
     "output_type": "stream",
     "text": [
      " \n",
      "    IP address:\n",
      "    10.1.1.1\n",
      "    \n"
     ]
    }
   ],
   "source": [
    "print(ip_template.format('10.1.1.1'))"
   ]
  },
  {
   "cell_type": "code",
   "execution_count": 67,
   "id": "23d091f2",
   "metadata": {},
   "outputs": [
    {
     "data": {
      "text/plain": [
       "'11000000 01100100 00000001 00000001'"
      ]
     },
     "execution_count": 67,
     "metadata": {},
     "output_type": "execute_result"
    }
   ],
   "source": [
    "'{:08b} {:08b} {:08b} {:08b}'.format(192, 100, 1, 1)"
   ]
  },
  {
   "cell_type": "code",
   "execution_count": 68,
   "id": "9b1e1113",
   "metadata": {},
   "outputs": [
    {
     "data": {
      "text/plain": [
       "'10.1.1.1/24'"
      ]
     },
     "execution_count": 68,
     "metadata": {},
     "output_type": "execute_result"
    }
   ],
   "source": [
    "'{ip}/{mask}'.format(mask=24, ip='10.1.1.1')"
   ]
  },
  {
   "cell_type": "code",
   "execution_count": 72,
   "id": "896c851f",
   "metadata": {},
   "outputs": [
    {
     "data": {
      "text/plain": [
       "'10.1.1.1/24'"
      ]
     },
     "execution_count": 72,
     "metadata": {},
     "output_type": "execute_result"
    }
   ],
   "source": [
    "'{1}/{0}'.format(24,'10.1.1.1')"
   ]
  },
  {
   "cell_type": "code",
   "execution_count": 73,
   "id": "0a0f500e",
   "metadata": {},
   "outputs": [],
   "source": [
    "ip_template =''' \n",
    "    IP address:\n",
    "    {0:<8} {1:<8} {2:<8} {3:<8}\n",
    "    {0:08b} {1:08b} {2:08b} {3:08b}\n",
    "'''"
   ]
  },
  {
   "cell_type": "code",
   "execution_count": 76,
   "id": "a37b28cf",
   "metadata": {},
   "outputs": [
    {
     "name": "stdout",
     "output_type": "stream",
     "text": [
      " \n",
      "    IP address:\n",
      "    192      168      10       1       \n",
      "    11000000 10101000 00001010 00000001\n",
      "\n"
     ]
    }
   ],
   "source": [
    "print(ip_template.format(192,168,10,1))"
   ]
  },
  {
   "cell_type": "code",
   "execution_count": 78,
   "id": "bbef00cf",
   "metadata": {},
   "outputs": [],
   "source": [
    "#F-strings"
   ]
  },
  {
   "cell_type": "code",
   "execution_count": 80,
   "id": "f62e751c",
   "metadata": {},
   "outputs": [],
   "source": [
    "ip = '10.1.1.1'\n",
    "mask = 24"
   ]
  },
  {
   "cell_type": "code",
   "execution_count": 88,
   "id": "e601172a",
   "metadata": {
    "collapsed": true
   },
   "outputs": [
    {
     "name": "stdout",
     "output_type": "stream",
     "text": [
      "IP: 10.1.1.1, mask: 24\n"
     ]
    }
   ],
   "source": [
    "print(f\"IP: {ip}, mask: {mask}\")"
   ]
  },
  {
   "cell_type": "code",
   "execution_count": 92,
   "id": "53014986",
   "metadata": {},
   "outputs": [
    {
     "name": "stdout",
     "output_type": "stream",
     "text": [
      "\n",
      "    IP address:\n",
      "    10       1        1        1       \n",
      "    10100000 10000000 10000000 10000000\n"
     ]
    }
   ],
   "source": [
    "oct1, oct2, oct3, oct4 = [10,1,1,1]\n",
    "print(f'''\n",
    "    IP address:\n",
    "    {oct1:<8} {oct2:<8} {oct3:<8} {oct4:<8}\n",
    "    {oct1:<08b} {oct2:<08b} {oct3:<08b} {oct4:<08b}''')"
   ]
  },
  {
   "cell_type": "code",
   "execution_count": 94,
   "id": "550dbc69",
   "metadata": {},
   "outputs": [],
   "source": [
    "s = ('Test' 'String')"
   ]
  },
  {
   "cell_type": "code",
   "execution_count": 96,
   "id": "7385d9fd",
   "metadata": {},
   "outputs": [
    {
     "data": {
      "text/plain": [
       "'TestString'"
      ]
     },
     "execution_count": 96,
     "metadata": {},
     "output_type": "execute_result"
    }
   ],
   "source": [
    "s"
   ]
  },
  {
   "cell_type": "code",
   "execution_count": 97,
   "id": "00787512",
   "metadata": {},
   "outputs": [
    {
     "data": {
      "text/plain": [
       "'TestString'"
      ]
     },
     "execution_count": 97,
     "metadata": {},
     "output_type": "execute_result"
    }
   ],
   "source": [
    "s = 'Test' 'String'\n",
    "s"
   ]
  },
  {
   "cell_type": "code",
   "execution_count": 99,
   "id": "be5ce5bd",
   "metadata": {},
   "outputs": [
    {
     "data": {
      "text/plain": [
       "'TestString'"
      ]
     },
     "execution_count": 99,
     "metadata": {},
     "output_type": "execute_result"
    }
   ],
   "source": [
    "s = ('Test'\n",
    "    'String')\n",
    "s"
   ]
  },
  {
   "cell_type": "code",
   "execution_count": 108,
   "id": "099f9f32",
   "metadata": {},
   "outputs": [
    {
     "name": "stdout",
     "output_type": "stream",
     "text": [
      "\n",
      "    mem1   1\n",
      "    mem2   2 \n",
      "    mem3   3 \n",
      "    mem4   4 \n",
      "    mem5   5\n"
     ]
    }
   ],
   "source": [
    "l1,l2,l3,l4,l5 = [1,2,3,4,5]\n",
    "print('''\n",
    "    mem1   {}\n",
    "    mem2   {} \n",
    "    mem3   {} \n",
    "    mem4   {} \n",
    "    mem5   {}'''.format(l1,l2,l3,l4,l5))"
   ]
  },
  {
   "cell_type": "code",
   "execution_count": 110,
   "id": "fbd565c3",
   "metadata": {},
   "outputs": [],
   "source": [
    "list1=list('router')"
   ]
  },
  {
   "cell_type": "code",
   "execution_count": 112,
   "id": "71742751",
   "metadata": {},
   "outputs": [
    {
     "data": {
      "text/plain": [
       "['r', 'o', 'u', 't', 'e', 'r']"
      ]
     },
     "execution_count": 112,
     "metadata": {},
     "output_type": "execute_result"
    }
   ],
   "source": [
    "list1"
   ]
  },
  {
   "cell_type": "code",
   "execution_count": 124,
   "id": "678229dc",
   "metadata": {},
   "outputs": [
    {
     "data": {
      "text/plain": [
       "['o', 'u']"
      ]
     },
     "execution_count": 124,
     "metadata": {},
     "output_type": "execute_result"
    }
   ],
   "source": [
    "list1[1:3:1]"
   ]
  },
  {
   "cell_type": "code",
   "execution_count": 126,
   "id": "b8bc9e00",
   "metadata": {},
   "outputs": [
    {
     "data": {
      "text/plain": [
       "6"
      ]
     },
     "execution_count": 126,
     "metadata": {},
     "output_type": "execute_result"
    }
   ],
   "source": [
    "len(list1)"
   ]
  },
  {
   "cell_type": "code",
   "execution_count": 129,
   "id": "fb9415c4",
   "metadata": {},
   "outputs": [
    {
     "data": {
      "text/plain": [
       "'10,20,30'"
      ]
     },
     "execution_count": 129,
     "metadata": {},
     "output_type": "execute_result"
    }
   ],
   "source": [
    "vlans = ['10','20','30']\n",
    "','.join(vlans)\n"
   ]
  },
  {
   "cell_type": "code",
   "execution_count": 134,
   "id": "936c0abc",
   "metadata": {},
   "outputs": [],
   "source": [
    "vlans.append('300')"
   ]
  },
  {
   "cell_type": "code",
   "execution_count": 135,
   "id": "0aa2005e",
   "metadata": {},
   "outputs": [
    {
     "data": {
      "text/plain": [
       "['10', '20', '30', '300', '300', '300', '300']"
      ]
     },
     "execution_count": 135,
     "metadata": {},
     "output_type": "execute_result"
    }
   ],
   "source": [
    "vlans"
   ]
  },
  {
   "cell_type": "code",
   "execution_count": 136,
   "id": "27658745",
   "metadata": {},
   "outputs": [],
   "source": [
    "vlans2 = ['400','500','600']"
   ]
  },
  {
   "cell_type": "code",
   "execution_count": 137,
   "id": "567c297c",
   "metadata": {},
   "outputs": [],
   "source": [
    "vlans.extend(vlans2)"
   ]
  },
  {
   "cell_type": "code",
   "execution_count": 138,
   "id": "90bff41a",
   "metadata": {},
   "outputs": [
    {
     "data": {
      "text/plain": [
       "['10', '20', '30', '300', '300', '300', '300', '400', '500', '600']"
      ]
     },
     "execution_count": 138,
     "metadata": {},
     "output_type": "execute_result"
    }
   ],
   "source": [
    "vlans"
   ]
  },
  {
   "cell_type": "code",
   "execution_count": 139,
   "id": "71afe397",
   "metadata": {},
   "outputs": [
    {
     "data": {
      "text/plain": [
       "['10',\n",
       " '20',\n",
       " '30',\n",
       " '300',\n",
       " '300',\n",
       " '300',\n",
       " '300',\n",
       " '400',\n",
       " '500',\n",
       " '600',\n",
       " '400',\n",
       " '500',\n",
       " '600']"
      ]
     },
     "execution_count": 139,
     "metadata": {},
     "output_type": "execute_result"
    }
   ],
   "source": [
    "vlans + vlans2"
   ]
  },
  {
   "cell_type": "code",
   "execution_count": 140,
   "id": "ae445323",
   "metadata": {},
   "outputs": [],
   "source": [
    "result = vlans + vlans2"
   ]
  },
  {
   "cell_type": "code",
   "execution_count": 141,
   "id": "efa123d8",
   "metadata": {},
   "outputs": [
    {
     "data": {
      "text/plain": [
       "['10',\n",
       " '20',\n",
       " '30',\n",
       " '300',\n",
       " '300',\n",
       " '300',\n",
       " '300',\n",
       " '400',\n",
       " '500',\n",
       " '600',\n",
       " '400',\n",
       " '500',\n",
       " '600']"
      ]
     },
     "execution_count": 141,
     "metadata": {},
     "output_type": "execute_result"
    }
   ],
   "source": [
    "result"
   ]
  },
  {
   "cell_type": "code",
   "execution_count": 142,
   "id": "cfccce8f",
   "metadata": {},
   "outputs": [
    {
     "data": {
      "text/plain": [
       "'600'"
      ]
     },
     "execution_count": 142,
     "metadata": {},
     "output_type": "execute_result"
    }
   ],
   "source": [
    "vlans.pop(-1)"
   ]
  },
  {
   "cell_type": "code",
   "execution_count": 143,
   "id": "b5990b55",
   "metadata": {},
   "outputs": [
    {
     "data": {
      "text/plain": [
       "['10', '20', '30', '300', '300', '300', '300', '400', '500']"
      ]
     },
     "execution_count": 143,
     "metadata": {},
     "output_type": "execute_result"
    }
   ],
   "source": [
    "vlans"
   ]
  },
  {
   "cell_type": "code",
   "execution_count": 144,
   "id": "2775fca7",
   "metadata": {},
   "outputs": [],
   "source": [
    "vlans.remove('300')"
   ]
  },
  {
   "cell_type": "code",
   "execution_count": 145,
   "id": "2bbc25c1",
   "metadata": {},
   "outputs": [
    {
     "data": {
      "text/plain": [
       "['10', '20', '30', '300', '300', '300', '400', '500']"
      ]
     },
     "execution_count": 145,
     "metadata": {},
     "output_type": "execute_result"
    }
   ],
   "source": [
    "vlans"
   ]
  },
  {
   "cell_type": "code",
   "execution_count": 146,
   "id": "a0ae14fa",
   "metadata": {},
   "outputs": [
    {
     "data": {
      "text/plain": [
       "['10', '15', '20', '30', '300', '300', '300', '400', '500']"
      ]
     },
     "execution_count": 146,
     "metadata": {},
     "output_type": "execute_result"
    }
   ],
   "source": [
    "vlans.insert(1,'15')\n",
    "vlans"
   ]
  },
  {
   "cell_type": "code",
   "execution_count": 147,
   "id": "126d854f",
   "metadata": {},
   "outputs": [],
   "source": [
    "vlans.sort()"
   ]
  },
  {
   "cell_type": "code",
   "execution_count": 148,
   "id": "7314e545",
   "metadata": {},
   "outputs": [
    {
     "data": {
      "text/plain": [
       "['10', '15', '20', '30', '300', '300', '300', '400', '500']"
      ]
     },
     "execution_count": 148,
     "metadata": {},
     "output_type": "execute_result"
    }
   ],
   "source": [
    "vlans"
   ]
  },
  {
   "cell_type": "code",
   "execution_count": 151,
   "id": "c1a08a09",
   "metadata": {},
   "outputs": [],
   "source": [
    "#dict\n"
   ]
  },
  {
   "cell_type": "code",
   "execution_count": 153,
   "id": "986ac8a9",
   "metadata": {},
   "outputs": [
    {
     "data": {
      "text/plain": [
       "{'name': 'London', 'location': 'Cornhill', 'vendor': 'Sunguard'}"
      ]
     },
     "execution_count": 153,
     "metadata": {},
     "output_type": "execute_result"
    }
   ],
   "source": [
    "london = {\n",
    "    'name':'London',\n",
    "    'location': 'Cornhill',\n",
    "    'vendor': 'Sunguard'\n",
    "}\n",
    "london"
   ]
  },
  {
   "cell_type": "code",
   "execution_count": 154,
   "id": "9a4b4191",
   "metadata": {},
   "outputs": [
    {
     "data": {
      "text/plain": [
       "{'id': 1,\n",
       " 'name': 'London',\n",
       " 'it_vlan': 320,\n",
       " 'user_vlan': 1010,\n",
       " 'mngmt_vlan': 99,\n",
       " 'to_name': None,\n",
       " 'to_id': None,\n",
       " 'port': 'G1/0/11'}"
      ]
     },
     "execution_count": 154,
     "metadata": {},
     "output_type": "execute_result"
    }
   ],
   "source": [
    "london = {\n",
    "'id': 1,\n",
    "'name': 'London',\n",
    "'it_vlan': 320,\n",
    "'user_vlan': 1010,\n",
    "'mngmt_vlan': 99,\n",
    "'to_name': None,\n",
    "'to_id': None,\n",
    "'port': 'G1/0/11'\n",
    "}\n",
    "london"
   ]
  },
  {
   "cell_type": "code",
   "execution_count": 157,
   "id": "951df9d5",
   "metadata": {},
   "outputs": [
    {
     "data": {
      "text/plain": [
       "'Cornhill'"
      ]
     },
     "execution_count": 157,
     "metadata": {},
     "output_type": "execute_result"
    }
   ],
   "source": [
    "london = {\n",
    "    'name':'London',\n",
    "    'location': 'Cornhill',\n",
    "    'vendor': 'Sunguard'\n",
    "}\n",
    "london['name']\n",
    "london['location']"
   ]
  },
  {
   "cell_type": "code",
   "execution_count": 158,
   "id": "80e45aa1",
   "metadata": {},
   "outputs": [],
   "source": [
    "london['service'] = 'Stocks'"
   ]
  },
  {
   "cell_type": "code",
   "execution_count": 159,
   "id": "4d0361cc",
   "metadata": {},
   "outputs": [
    {
     "data": {
      "text/plain": [
       "{'name': 'London',\n",
       " 'location': 'Cornhill',\n",
       " 'vendor': 'Sunguard',\n",
       " 'service': 'Stocks'}"
      ]
     },
     "execution_count": 159,
     "metadata": {},
     "output_type": "execute_result"
    }
   ],
   "source": [
    "london"
   ]
  },
  {
   "cell_type": "code",
   "execution_count": 160,
   "id": "3520c90b",
   "metadata": {},
   "outputs": [
    {
     "name": "stdout",
     "output_type": "stream",
     "text": [
      "{'name': 'London', 'location': 'Cornhill', 'vendor': 'Sunguard', 'service': 'Stocks'}\n"
     ]
    }
   ],
   "source": [
    "print(london)"
   ]
  },
  {
   "cell_type": "code",
   "execution_count": 163,
   "id": "3212b2ca",
   "metadata": {},
   "outputs": [
    {
     "data": {
      "text/plain": [
       "{'r1': {'name': 'London1_ro', 'location': 'Cornhill', 'vendor': 'Sunguard'},\n",
       " 'r2': {'name': 'London2_ro', 'location': 'Acton', 'vendor': 'QuanHouse'},\n",
       " 'sw2': {'name': 'London2_sw', 'location': 'Acton', 'vendor': 'Sunguard'}}"
      ]
     },
     "execution_count": 163,
     "metadata": {},
     "output_type": "execute_result"
    }
   ],
   "source": [
    "london_net_dev ={\n",
    "    'r1' : {    \n",
    "        'name':'London1_ro',\n",
    "        'location': 'Cornhill',\n",
    "        'vendor': 'Sunguard'\n",
    "        },\n",
    "    'r2' : {\n",
    "        'name':'London2_ro',\n",
    "        'location': 'Acton',\n",
    "        'vendor': 'QuanHouse'\n",
    "        },\n",
    "    'sw2': {\n",
    "        'name':'London2_sw',\n",
    "        'location': 'Acton',\n",
    "        'vendor': 'Sunguard'\n",
    "        }        \n",
    "}\n",
    "london_net_dev"
   ]
  },
  {
   "cell_type": "code",
   "execution_count": 164,
   "id": "3a9777ed",
   "metadata": {},
   "outputs": [
    {
     "data": {
      "text/plain": [
       "{'name': 'London',\n",
       " 'location': 'Cornhill',\n",
       " 'vendor': 'Sunguard',\n",
       " 'service': 'Stocks'}"
      ]
     },
     "execution_count": 164,
     "metadata": {},
     "output_type": "execute_result"
    }
   ],
   "source": [
    "london"
   ]
  },
  {
   "cell_type": "code",
   "execution_count": 165,
   "id": "c1957493",
   "metadata": {},
   "outputs": [
    {
     "data": {
      "text/plain": [
       "['location', 'name', 'service', 'vendor']"
      ]
     },
     "execution_count": 165,
     "metadata": {},
     "output_type": "execute_result"
    }
   ],
   "source": [
    "sorted(london)"
   ]
  },
  {
   "cell_type": "code",
   "execution_count": 166,
   "id": "94a00d45",
   "metadata": {},
   "outputs": [
    {
     "data": {
      "text/plain": [
       "{'name': 'London',\n",
       " 'location': 'Cornhill',\n",
       " 'vendor': 'Sunguard',\n",
       " 'service': 'Stocks'}"
      ]
     },
     "execution_count": 166,
     "metadata": {},
     "output_type": "execute_result"
    }
   ],
   "source": [
    "london"
   ]
  },
  {
   "cell_type": "code",
   "execution_count": 168,
   "id": "c68d6056",
   "metadata": {},
   "outputs": [
    {
     "data": {
      "text/plain": [
       "{'name': 'Acton',\n",
       " 'location': 'Cornhill',\n",
       " 'vendor': 'Sunguard',\n",
       " 'service': 'Stocks'}"
      ]
     },
     "execution_count": 168,
     "metadata": {},
     "output_type": "execute_result"
    }
   ],
   "source": [
    "london2 = london\n",
    "london['name'] = 'Acton'\n",
    "london2"
   ]
  },
  {
   "cell_type": "code",
   "execution_count": 169,
   "id": "9da58606",
   "metadata": {},
   "outputs": [],
   "source": [
    "london2 = london.copy()"
   ]
  },
  {
   "cell_type": "code",
   "execution_count": 170,
   "id": "245bfc0c",
   "metadata": {},
   "outputs": [],
   "source": [
    "london['name'] = 'Manchester'"
   ]
  },
  {
   "cell_type": "code",
   "execution_count": 171,
   "id": "3fbb40fc",
   "metadata": {},
   "outputs": [
    {
     "data": {
      "text/plain": [
       "{'name': 'Acton',\n",
       " 'location': 'Cornhill',\n",
       " 'vendor': 'Sunguard',\n",
       " 'service': 'Stocks'}"
      ]
     },
     "execution_count": 171,
     "metadata": {},
     "output_type": "execute_result"
    }
   ],
   "source": [
    "london2"
   ]
  },
  {
   "cell_type": "code",
   "execution_count": 172,
   "id": "9f25e8ff",
   "metadata": {},
   "outputs": [
    {
     "data": {
      "text/plain": [
       "139866122236352"
      ]
     },
     "execution_count": 172,
     "metadata": {},
     "output_type": "execute_result"
    }
   ],
   "source": [
    "id(london)"
   ]
  },
  {
   "cell_type": "code",
   "execution_count": 173,
   "id": "2b1e7c01",
   "metadata": {},
   "outputs": [
    {
     "data": {
      "text/plain": [
       "139866121685632"
      ]
     },
     "execution_count": 173,
     "metadata": {},
     "output_type": "execute_result"
    }
   ],
   "source": [
    "id(london2)"
   ]
  },
  {
   "cell_type": "code",
   "execution_count": 175,
   "id": "3a52d519",
   "metadata": {},
   "outputs": [
    {
     "ename": "KeyError",
     "evalue": "'name1'",
     "output_type": "error",
     "traceback": [
      "\u001b[0;31m---------------------------------------------------------------------------\u001b[0m",
      "\u001b[0;31mKeyError\u001b[0m                                  Traceback (most recent call last)",
      "\u001b[0;32m/tmp/ipykernel_6663/2562546171.py\u001b[0m in \u001b[0;36m<module>\u001b[0;34m\u001b[0m\n\u001b[0;32m----> 1\u001b[0;31m \u001b[0mlondon2\u001b[0m\u001b[0;34m[\u001b[0m\u001b[0;34m'name1'\u001b[0m\u001b[0;34m]\u001b[0m\u001b[0;34m\u001b[0m\u001b[0;34m\u001b[0m\u001b[0m\n\u001b[0m",
      "\u001b[0;31mKeyError\u001b[0m: 'name1'"
     ]
    }
   ],
   "source": [
    "london2['name1']"
   ]
  },
  {
   "cell_type": "code",
   "execution_count": 178,
   "id": "26fc8d4c",
   "metadata": {},
   "outputs": [
    {
     "name": "stdout",
     "output_type": "stream",
     "text": [
      "Sorry, but not found!\n"
     ]
    }
   ],
   "source": [
    "print(london.get('name1','Sorry, but not found!'))"
   ]
  },
  {
   "cell_type": "code",
   "execution_count": 185,
   "id": "d1746dd6",
   "metadata": {},
   "outputs": [
    {
     "data": {
      "text/plain": [
       "'John Harris'"
      ]
     },
     "execution_count": 185,
     "metadata": {},
     "output_type": "execute_result"
    }
   ],
   "source": [
    "london.setdefault('representative1','John Harris')"
   ]
  },
  {
   "cell_type": "code",
   "execution_count": 186,
   "id": "9f1c1824",
   "metadata": {},
   "outputs": [
    {
     "data": {
      "text/plain": [
       "{'name': 'Manchester',\n",
       " 'location': 'Cornhill',\n",
       " 'vendor': 'Sunguard',\n",
       " 'service': 'Stocks',\n",
       " 'representative': None,\n",
       " 'representative1': 'John Harris'}"
      ]
     },
     "execution_count": 186,
     "metadata": {},
     "output_type": "execute_result"
    }
   ],
   "source": [
    "london"
   ]
  },
  {
   "cell_type": "code",
   "execution_count": 188,
   "id": "0aefa9c0",
   "metadata": {},
   "outputs": [
    {
     "data": {
      "text/plain": [
       "dict_items([('name', 'Manchester'), ('location', 'Cornhill'), ('vendor', 'Sunguard'), ('service', 'Stocks'), ('representative', None), ('representative1', 'John Harris')])"
      ]
     },
     "execution_count": 188,
     "metadata": {},
     "output_type": "execute_result"
    }
   ],
   "source": [
    "london.items()"
   ]
  },
  {
   "cell_type": "code",
   "execution_count": 189,
   "id": "8683ec6f",
   "metadata": {},
   "outputs": [
    {
     "data": {
      "text/plain": [
       "dict_keys(['name', 'location', 'vendor', 'service', 'representative', 'representative1'])"
      ]
     },
     "execution_count": 189,
     "metadata": {},
     "output_type": "execute_result"
    }
   ],
   "source": [
    "keys = london.keys()\n",
    "keys"
   ]
  },
  {
   "cell_type": "code",
   "execution_count": 190,
   "id": "818669bf",
   "metadata": {},
   "outputs": [],
   "source": [
    "keys = list(keys)"
   ]
  },
  {
   "cell_type": "code",
   "execution_count": 191,
   "id": "b6c33318",
   "metadata": {},
   "outputs": [
    {
     "data": {
      "text/plain": [
       "['name', 'location', 'vendor', 'service', 'representative', 'representative1']"
      ]
     },
     "execution_count": 191,
     "metadata": {},
     "output_type": "execute_result"
    }
   ],
   "source": [
    "keys"
   ]
  },
  {
   "cell_type": "code",
   "execution_count": 194,
   "id": "dfe3a1dd",
   "metadata": {},
   "outputs": [],
   "source": [
    "del london['representative']"
   ]
  },
  {
   "cell_type": "code",
   "execution_count": 195,
   "id": "d7b00728",
   "metadata": {},
   "outputs": [
    {
     "data": {
      "text/plain": [
       "{'name': 'Manchester',\n",
       " 'location': 'Cornhill',\n",
       " 'vendor': 'Sunguard',\n",
       " 'service': 'Stocks',\n",
       " 'representative1': 'John Harris'}"
      ]
     },
     "execution_count": 195,
     "metadata": {},
     "output_type": "execute_result"
    }
   ],
   "source": [
    "london"
   ]
  },
  {
   "cell_type": "code",
   "execution_count": 197,
   "id": "5fefef90",
   "metadata": {},
   "outputs": [],
   "source": [
    "london.update({'representative1' : 'Bob Marlie'})"
   ]
  },
  {
   "cell_type": "code",
   "execution_count": null,
   "id": "04a37cf2",
   "metadata": {},
   "outputs": [],
   "source": []
  },
  {
   "cell_type": "code",
   "execution_count": 198,
   "id": "5c0cd6eb",
   "metadata": {},
   "outputs": [
    {
     "data": {
      "text/plain": [
       "{'name': 'Manchester',\n",
       " 'location': 'Cornhill',\n",
       " 'vendor': 'Sunguard',\n",
       " 'service': 'Stocks',\n",
       " 'representative1': 'Bob Marlie'}"
      ]
     },
     "execution_count": 198,
     "metadata": {},
     "output_type": "execute_result"
    }
   ],
   "source": [
    "london\n"
   ]
  },
  {
   "cell_type": "code",
   "execution_count": 200,
   "id": "5343a746",
   "metadata": {},
   "outputs": [
    {
     "data": {
      "text/plain": [
       "{'name': None,\n",
       " 'location': None,\n",
       " 'vendor': None,\n",
       " 'service': None,\n",
       " 'representative': None,\n",
       " 'representative1': None}"
      ]
     },
     "execution_count": 200,
     "metadata": {},
     "output_type": "execute_result"
    }
   ],
   "source": [
    "dict.fromkeys(['name', 'location', 'vendor', 'service', 'representative', 'representative1'])"
   ]
  },
  {
   "cell_type": "code",
   "execution_count": 201,
   "id": "4fe6d5da",
   "metadata": {},
   "outputs": [
    {
     "data": {
      "text/plain": [
       "()"
      ]
     },
     "execution_count": 201,
     "metadata": {},
     "output_type": "execute_result"
    }
   ],
   "source": [
    "#tuple\n",
    "tuple1 = tuple()\n",
    "tuple1"
   ]
  },
  {
   "cell_type": "code",
   "execution_count": 204,
   "id": "d62b325d",
   "metadata": {},
   "outputs": [],
   "source": [
    "tuple2 = ('password',)"
   ]
  },
  {
   "cell_type": "code",
   "execution_count": 205,
   "id": "a8f9f666",
   "metadata": {},
   "outputs": [
    {
     "data": {
      "text/plain": [
       "('password',)"
      ]
     },
     "execution_count": 205,
     "metadata": {},
     "output_type": "execute_result"
    }
   ],
   "source": [
    "tuple2"
   ]
  },
  {
   "cell_type": "code",
   "execution_count": 208,
   "id": "42d43a7e",
   "metadata": {},
   "outputs": [],
   "source": [
    "tuple_keys = tuple(['name', 'location', 'vendor', 'service', 'representative', 'representative1'])"
   ]
  },
  {
   "cell_type": "code",
   "execution_count": 211,
   "id": "ff768119",
   "metadata": {},
   "outputs": [
    {
     "data": {
      "text/plain": [
       "'name'"
      ]
     },
     "execution_count": 211,
     "metadata": {},
     "output_type": "execute_result"
    }
   ],
   "source": [
    "tuple_keys[0]"
   ]
  },
  {
   "cell_type": "code",
   "execution_count": 212,
   "id": "bf0b85f5",
   "metadata": {},
   "outputs": [
    {
     "data": {
      "text/plain": [
       "['location', 'name', 'representative', 'representative1', 'service', 'vendor']"
      ]
     },
     "execution_count": 212,
     "metadata": {},
     "output_type": "execute_result"
    }
   ],
   "source": [
    "sorted(tuple_keys)"
   ]
  },
  {
   "cell_type": "code",
   "execution_count": null,
   "id": "64d9dee0",
   "metadata": {},
   "outputs": [],
   "source": []
  }
 ],
 "metadata": {
  "kernelspec": {
   "display_name": "Python 3 (ipykernel)",
   "language": "python",
   "name": "python3"
  },
  "language_info": {
   "codemirror_mode": {
    "name": "ipython",
    "version": 3
   },
   "file_extension": ".py",
   "mimetype": "text/x-python",
   "name": "python",
   "nbconvert_exporter": "python",
   "pygments_lexer": "ipython3",
   "version": "3.9.7"
  }
 },
 "nbformat": 4,
 "nbformat_minor": 5
}
