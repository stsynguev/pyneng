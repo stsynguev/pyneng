{
 "cells": [
  {
   "cell_type": "code",
   "execution_count": 4,
   "id": "bee1f7f4",
   "metadata": {},
   "outputs": [],
   "source": [
    "\"\"\"\n",
    "Задание 4.1\n",
    "\n",
    "Используя подготовленную строку nat, получить новую строку, в которой в имени\n",
    "интерфейса вместо FastEthernet написано GigabitEthernet.\n",
    "Полученную новую строку вывести на стандартный поток вывода (stdout) с помощью print.\n",
    "\n",
    "Ограничение: Все задания надо выполнять используя только пройденные темы.\n",
    "\n",
    "Предупреждение: в разделе 4 тесты можно легко \"обмануть\" сделав нужный вывод,\n",
    "без получения результатов из исходных данных с помощью Python.\n",
    "Это не значит, что задание сделано правильно, просто на данном этапе сложно иначе\n",
    "проверять результат.\n",
    "\n",
    "\"\"\"\n",
    "nat = \"ip nat inside source list ACL interface FastEthernet0/1 overload\"\n"
   ]
  },
  {
   "cell_type": "code",
   "execution_count": 6,
   "id": "5ae17ec2",
   "metadata": {},
   "outputs": [
    {
     "name": "stdout",
     "output_type": "stream",
     "text": [
      "ip nat inside source list ACL interface GigabitEthernet0/1 overload\n"
     ]
    }
   ],
   "source": [
    "print(nat.replace('Fast','Gigabit'))\n"
   ]
  },
  {
   "cell_type": "code",
   "execution_count": 8,
   "id": "950bd945",
   "metadata": {},
   "outputs": [],
   "source": [
    "# -*- coding: utf-8 -*-\n",
    "\"\"\"\n",
    "Задание 4.2\n",
    "\n",
    "Преобразовать строку в переменной mac из формата XXXX:XXXX:XXXX\n",
    "в формат XXXX.XXXX.XXXX\n",
    "Полученную новую строку вывести на стандартный поток вывода (stdout) с помощью print.\n",
    "\n",
    "Ограничение: Все задания надо выполнять используя только пройденные темы.\n",
    "\n",
    "Предупреждение: в разделе 4 тесты можно легко \"обмануть\" сделав нужный вывод,\n",
    "без получения результатов из исходных данных с помощью Python.\n",
    "Это не значит, что задание сделано правильно, просто на данном этапе сложно иначе\n",
    "проверять результат.\n",
    "\"\"\"\n",
    "\n",
    "mac = \"AAAA:BBBB:CCCC\"\n"
   ]
  },
  {
   "cell_type": "code",
   "execution_count": 11,
   "id": "6ed2d4c3",
   "metadata": {},
   "outputs": [
    {
     "name": "stdout",
     "output_type": "stream",
     "text": [
      "AAAA.BBBB.CCCC\n"
     ]
    }
   ],
   "source": [
    "print(mac.replace(':','.'))"
   ]
  },
  {
   "cell_type": "code",
   "execution_count": 12,
   "id": "e412f354",
   "metadata": {},
   "outputs": [],
   "source": [
    "# -*- coding: utf-8 -*-\n",
    "\"\"\"\n",
    "Задание 4.3\n",
    "\n",
    "Получить из строки config такой список VLANов:\n",
    "['1', '3', '10', '20', '30', '100']\n",
    "\n",
    "Записать итоговый список в переменную result.\n",
    "(именно эта переменная будет проверяться в тесте)\n",
    "\n",
    "Полученный список result вывести на стандартный поток вывода (stdout)\n",
    "с помощью print.\n",
    "Тут очень важный момент, что надо получить именно список (тип данных), а не,\n",
    "например, строку, которая похожа на показанный список.\n",
    "\n",
    "Ограничение: Все задания надо выполнять используя только пройденные темы.\n",
    "\n",
    "Предупреждение: в разделе 4 тесты можно легко \"обмануть\" сделав нужный вывод,\n",
    "без получения результатов из исходных данных с помощью Python.\n",
    "Это не значит, что задание сделано правильно, просто на данном этапе сложно иначе\n",
    "проверять результат.\n",
    "\"\"\"\n",
    "\n",
    "config = \"switchport trunk allowed vlan 1,3,10,20,30,100\"\n"
   ]
  },
  {
   "cell_type": "code",
   "execution_count": 14,
   "id": "3ba98436",
   "metadata": {},
   "outputs": [],
   "source": [
    "result = config.split()[-1].split(',')"
   ]
  },
  {
   "cell_type": "code",
   "execution_count": 15,
   "id": "debbebe4",
   "metadata": {},
   "outputs": [
    {
     "name": "stdout",
     "output_type": "stream",
     "text": [
      "['1', '3', '10', '20', '30', '100']\n"
     ]
    }
   ],
   "source": [
    "print(result)"
   ]
  },
  {
   "cell_type": "code",
   "execution_count": 17,
   "id": "1eefe142",
   "metadata": {},
   "outputs": [],
   "source": [
    "# -*- coding: utf-8 -*-\n",
    "\"\"\"\n",
    "Задание 4.4\n",
    "\n",
    "Список vlans это список VLANов, собранных со всех устройств сети,\n",
    "поэтому в списке есть повторяющиеся номера VLAN.\n",
    "\n",
    "Из списка vlans нужно получить новый список уникальных номеров VLANов,\n",
    "отсортированный по возрастанию номеров. Для получения итогового\n",
    "списка нельзя удалять конкретные vlanы вручную.\n",
    "\n",
    "Записать итоговый список уникальных номеров VLANов в переменную result.\n",
    "(именно эта переменная будет проверяться в тесте)\n",
    "\n",
    "Полученный список result вывести на стандартный поток вывода (stdout)\n",
    "с помощью print.\n",
    "\n",
    "Ограничение: Все задания надо выполнять используя только пройденные темы.\n",
    "\n",
    "Предупреждение: в разделе 4 тесты можно легко \"обмануть\" сделав нужный вывод,\n",
    "без получения результатов из исходных данных с помощью Python.\n",
    "Это не значит, что задание сделано правильно, просто на данном этапе сложно иначе\n",
    "проверять результат.\n",
    "\"\"\"\n",
    "\n",
    "vlans = [10, 20, 30, 1, 2, 100, 10, 30, 3, 4, 10]\n"
   ]
  },
  {
   "cell_type": "code",
   "execution_count": 23,
   "id": "8770ec65",
   "metadata": {},
   "outputs": [
    {
     "name": "stdout",
     "output_type": "stream",
     "text": [
      "[1, 2, 3, 4, 10, 20, 30, 100]\n"
     ]
    }
   ],
   "source": [
    "result = sorted(set(vlans))\n",
    "print(result)"
   ]
  },
  {
   "cell_type": "code",
   "execution_count": 24,
   "id": "b6de6041",
   "metadata": {},
   "outputs": [],
   "source": [
    "# -*- coding: utf-8 -*-\n",
    "\"\"\"\n",
    "Задание 4.5\n",
    "\n",
    "Из строк command1 и command2 получить список VLANов, которые есть\n",
    "и в команде command1 и в команде command2 (пересечение).\n",
    "\n",
    "В данном случае, результатом должен быть такой список: ['1', '3', '8']\n",
    "\n",
    "Записать итоговый список в переменную result. (именно эта переменная будет\n",
    "проверяться в тесте)\n",
    "\n",
    "Полученный список result вывести на стандартный поток вывода (stdout) с помощью print.\n",
    "\n",
    "Ограничение: Все задания надо выполнять используя только пройденные темы.\n",
    "\n",
    "Предупреждение: в разделе 4 тесты можно легко \"обмануть\" сделав нужный вывод,\n",
    "без получения результатов из исходных данных с помощью Python.\n",
    "Это не значит, что задание сделано правильно, просто на данном этапе сложно иначе\n",
    "проверять результат.\n",
    "\"\"\"\n",
    "\n",
    "command1 = \"switchport trunk allowed vlan 1,2,3,5,8\"\n",
    "command2 = \"switchport trunk allowed vlan 1,3,8,9\"\n"
   ]
  },
  {
   "cell_type": "code",
   "execution_count": 57,
   "id": "a8e236f9",
   "metadata": {},
   "outputs": [
    {
     "name": "stdout",
     "output_type": "stream",
     "text": [
      "['1', '3', '8']\n"
     ]
    }
   ],
   "source": [
    "result = sorted(set(command1.split()[-1].split(','))&set((command2.split()[-1].split(','))))\n",
    "print(result)"
   ]
  },
  {
   "cell_type": "code",
   "execution_count": 58,
   "id": "58c75655",
   "metadata": {},
   "outputs": [],
   "source": [
    "# -*- coding: utf-8 -*-\n",
    "\"\"\"\n",
    "Задание 4.6\n",
    "\n",
    "Обработать строку ospf_route и вывести информацию на стандартный поток вывода в виде:\n",
    "Prefix                10.0.24.0/24\n",
    "AD/Metric             110/41\n",
    "Next-Hop              10.0.13.3\n",
    "Last update           3d18h\n",
    "Outbound Interface    FastEthernet0/0\n",
    "\n",
    "Ограничение: Все задания надо выполнять используя только пройденные темы.\n",
    "\n",
    "Предупреждение: в разделе 4 тесты можно легко \"обмануть\" сделав нужный вывод,\n",
    "без получения результатов из исходных данных с помощью Python.\n",
    "Это не значит, что задание сделано правильно, просто на данном этапе сложно иначе\n",
    "проверять результат.\n",
    "\"\"\"\n",
    "\n",
    "ospf_route = \"      10.0.24.0/24 [110/41] via 10.0.13.3, 3d18h, FastEthernet0/0\"\n"
   ]
  },
  {
   "cell_type": "code",
   "execution_count": 135,
   "id": "3e93b616",
   "metadata": {},
   "outputs": [
    {
     "name": "stdout",
     "output_type": "stream",
     "text": [
      "Prefix 10.0.24.0/24\n"
     ]
    }
   ],
   "source": [
    "result = [e.strip('[]') for e in ospf_route.split()]\n",
    "result.remove('via')\n",
    "print(f\" Prefix {result[0]}\"\n",
    "      )\n"
   ]
  },
  {
   "cell_type": "code",
   "execution_count": null,
   "id": "eceb943a",
   "metadata": {},
   "outputs": [],
   "source": []
  },
  {
   "cell_type": "code",
   "execution_count": null,
   "id": "1e90fcb5",
   "metadata": {},
   "outputs": [],
   "source": []
  }
 ],
 "metadata": {
  "kernelspec": {
   "display_name": "Python 3 (ipykernel)",
   "language": "python",
   "name": "python3"
  },
  "language_info": {
   "codemirror_mode": {
    "name": "ipython",
    "version": 3
   },
   "file_extension": ".py",
   "mimetype": "text/x-python",
   "name": "python",
   "nbconvert_exporter": "python",
   "pygments_lexer": "ipython3",
   "version": "3.9.7"
  }
 },
 "nbformat": 4,
 "nbformat_minor": 5
}
