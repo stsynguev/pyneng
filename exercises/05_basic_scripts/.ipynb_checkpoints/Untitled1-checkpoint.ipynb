{
 "cells": [
  {
   "cell_type": "code",
   "execution_count": 1,
   "id": "629bf33c",
   "metadata": {},
   "outputs": [],
   "source": [
    "# -*- coding: utf-8 -*-\n",
    "\"\"\"\n",
    "Задание 5.1\n",
    "\n",
    "\n",
    "В задании создан словарь, с информацией о разных устройствах.\n",
    "\n",
    "Необходимо запросить у пользователя ввод имени устройства (r1, r2 или sw1).\n",
    "И вывести информацию о соответствующем устройстве на стандартный поток вывода\n",
    "(информация будет в виде словаря).\n",
    "\n",
    "\n",
    "Пример выполнения скрипта:\n",
    "$ python task_5_1.py\n",
    "Введите имя устройства: r1\n",
    "{'location': '21 New Globe Walk', 'vendor': 'Cisco', 'model': '4451', 'ios': '15.4', 'ip': '10.255.0.1'}\n",
    "\n",
    "Ограничение: нельзя изменять словарь london_co.\n",
    "\n",
    "Все задания надо выполнять используя только пройденные темы. То есть эту задачу можно\n",
    "решить без использования условия if.\n",
    "\"\"\"\n",
    "\n",
    "london_co = {\n",
    "    \"r1\": {\n",
    "        \"location\": \"21 New Globe Walk\",\n",
    "        \"vendor\": \"Cisco\",\n",
    "        \"model\": \"4451\",\n",
    "        \"ios\": \"15.4\",\n",
    "        \"ip\": \"10.255.0.1\",\n",
    "    },\n",
    "    \"r2\": {\n",
    "        \"location\": \"21 New Globe Walk\",\n",
    "        \"vendor\": \"Cisco\",\n",
    "        \"model\": \"4451\",\n",
    "        \"ios\": \"15.4\",\n",
    "        \"ip\": \"10.255.0.2\",\n",
    "    },\n",
    "    \"sw1\": {\n",
    "        \"location\": \"21 New Globe Walk\",\n",
    "        \"vendor\": \"Cisco\",\n",
    "        \"model\": \"3850\",\n",
    "        \"ios\": \"3.6.XE\",\n",
    "        \"ip\": \"10.255.0.101\",\n",
    "        \"vlans\": \"10,20,30\",\n",
    "        \"routing\": True,\n",
    "    },\n",
    "}\n"
   ]
  },
  {
   "cell_type": "code",
   "execution_count": 3,
   "id": "18d25dd1",
   "metadata": {},
   "outputs": [
    {
     "name": "stdout",
     "output_type": "stream",
     "text": [
      "Enter a name of device: r1\n",
      "{'location': '21 New Globe Walk', 'vendor': 'Cisco', 'model': '4451', 'ios': '15.4', 'ip': '10.255.0.1'}\n"
     ]
    }
   ],
   "source": [
    "dict1 = input('Enter a name of device: ')\n",
    "print(london_co.setdefault(dict1))"
   ]
  },
  {
   "cell_type": "code",
   "execution_count": 4,
   "id": "d4114670",
   "metadata": {},
   "outputs": [],
   "source": [
    "# -*- coding: utf-8 -*-\n",
    "\"\"\"\n",
    "Задание 5.1a\n",
    "\n",
    "Переделать скрипт из задания 5.1 таким образом, чтобы, кроме имени устройства,\n",
    "запрашивался также параметр устройства, который нужно отобразить.\n",
    "\n",
    "Вывести информацию о соответствующем параметре, указанного устройства.\n",
    "\n",
    "Пример выполнения скрипта:\n",
    "$ python task_5_1a.py\n",
    "Введите имя устройства: r1\n",
    "Введите имя параметра: ios\n",
    "15.4\n",
    "\n",
    "Ограничение: нельзя изменять словарь london_co.\n",
    "\n",
    "Все задания надо выполнять используя только пройденные темы. То есть эту задачу можно\n",
    "решить без использования условия if.\n",
    "\"\"\"\n",
    "\n",
    "london_co = {\n",
    "    \"r1\": {\n",
    "        \"location\": \"21 New Globe Walk\",\n",
    "        \"vendor\": \"Cisco\",\n",
    "        \"model\": \"4451\",\n",
    "        \"ios\": \"15.4\",\n",
    "        \"ip\": \"10.255.0.1\",\n",
    "    },\n",
    "    \"r2\": {\n",
    "        \"location\": \"21 New Globe Walk\",\n",
    "        \"vendor\": \"Cisco\",\n",
    "        \"model\": \"4451\",\n",
    "        \"ios\": \"15.4\",\n",
    "        \"ip\": \"10.255.0.2\",\n",
    "    },\n",
    "    \"sw1\": {\n",
    "        \"location\": \"21 New Globe Walk\",\n",
    "        \"vendor\": \"Cisco\",\n",
    "        \"model\": \"3850\",\n",
    "        \"ios\": \"3.6.XE\",\n",
    "        \"ip\": \"10.255.0.101\",\n",
    "        \"vlans\": \"10,20,30\",\n",
    "        \"routing\": True,\n",
    "    },\n",
    "}\n"
   ]
  },
  {
   "cell_type": "code",
   "execution_count": 7,
   "id": "96dcae3f",
   "metadata": {},
   "outputs": [
    {
     "name": "stdout",
     "output_type": "stream",
     "text": [
      "Введите имя устройства: r1\n",
      "Введите имя параметра: ios\n",
      "15.4\n"
     ]
    }
   ],
   "source": [
    "device = input('Введите имя устройства: ')\n",
    "param = input('Введите имя параметра: ')\n",
    "print(london_co[device][param])"
   ]
  },
  {
   "cell_type": "code",
   "execution_count": 6,
   "id": "18bc1302",
   "metadata": {},
   "outputs": [],
   "source": [
    "# -*- coding: utf-8 -*-\n",
    "\"\"\"\n",
    "Задание 5.1b\n",
    "\n",
    "Переделать скрипт из задания 5.1a таким образом, чтобы, при запросе параметра,\n",
    "отображался список возможных параметров. Список параметров надо получить из словаря,\n",
    "а не прописывать вручную.\n",
    "\n",
    "Вывести информацию о соответствующем параметре, указанного устройства.\n",
    "\n",
    "Пример выполнения скрипта:\n",
    "$ python task_5_1b.py\n",
    "Введите имя устройства: r1\n",
    "Введите имя параметра (location, vendor, model, ios, ip): ip\n",
    "10.255.0.1\n",
    "\n",
    "$ python task_5_1b.py\n",
    "Введите имя устройства: sw1\n",
    "Введите имя параметра (location, vendor, model, ios, ip, vlans, routing): ip\n",
    "10.255.0.101\n",
    "\n",
    "Ограничение: нельзя изменять словарь london_co.\n",
    "\n",
    "Все задания надо выполнять используя только пройденные темы. То есть эту задачу можно\n",
    "решить без использования условия if.\n",
    "\"\"\"\n",
    "\n",
    "london_co = {\n",
    "    \"r1\": {\n",
    "        \"location\": \"21 New Globe Walk\",\n",
    "        \"vendor\": \"Cisco\",\n",
    "        \"model\": \"4451\",\n",
    "        \"ios\": \"15.4\",\n",
    "        \"ip\": \"10.255.0.1\",\n",
    "    },\n",
    "    \"r2\": {\n",
    "        \"location\": \"21 New Globe Walk\",\n",
    "        \"vendor\": \"Cisco\",\n",
    "        \"model\": \"4451\",\n",
    "        \"ios\": \"15.4\",\n",
    "        \"ip\": \"10.255.0.2\",\n",
    "    },\n",
    "    \"sw1\": {\n",
    "        \"location\": \"21 New Globe Walk\",\n",
    "        \"vendor\": \"Cisco\",\n",
    "        \"model\": \"3850\",\n",
    "        \"ios\": \"3.6.XE\",\n",
    "        \"ip\": \"10.255.0.101\",\n",
    "        \"vlans\": \"10,20,30\",\n",
    "        \"routing\": True,\n",
    "    },\n",
    "}\n"
   ]
  },
  {
   "cell_type": "code",
   "execution_count": 25,
   "id": "0babdd5d",
   "metadata": {},
   "outputs": [
    {
     "name": "stdout",
     "output_type": "stream",
     "text": [
      "Введите имя устройства: sw1\n",
      "Введите имя параметра dict_keys(['location', 'vendor', 'model', 'ios', 'ip', 'vlans', 'routing']): ip\n",
      "10.255.0.101\n"
     ]
    }
   ],
   "source": [
    "\n",
    "device = input('Введите имя устройства: ')\n",
    "param = input('Введите имя параметра {}: '.format(str(london_co[device].keys())))\n",
    "print(london_co[device][param])"
   ]
  },
  {
   "cell_type": "code",
   "execution_count": 26,
   "id": "2d442b71",
   "metadata": {},
   "outputs": [],
   "source": [
    "# -*- coding: utf-8 -*-\n",
    "\"\"\"\n",
    "Задание 5.1c\n",
    "\n",
    "Переделать скрипт из задания 5.1b таким образом, чтобы, при запросе параметра,\n",
    "которого нет в словаре устройства, отображалось сообщение 'Такого параметра нет'.\n",
    "Задание относится только к параметрам устройств, не к самим устройствам.\n",
    "\n",
    "> Попробуйте набрать неправильное имя параметра  или несуществующий параметр,\n",
    "> чтобы увидеть какой будет результат. А затем выполняйте задание.\n",
    "\n",
    "Если выбран существующий параметр, вывести информацию о соответствующем параметре,\n",
    "указанного устройства.\n",
    "\n",
    "Пример выполнения скрипта:\n",
    "$ python task_5_1c.py\n",
    "Введите имя устройства: r1\n",
    "Введите имя параметра (ios, model, vendor, location, ip): ips\n",
    "Такого параметра нет\n",
    "\n",
    "Ограничение: нельзя изменять словарь london_co.\n",
    "\n",
    "Все задания надо выполнять используя только пройденные темы. То есть эту задачу можно\n",
    "решить без использования условия if.\n",
    "\"\"\"\n",
    "\n",
    "london_co = {\n",
    "    \"r1\": {\n",
    "        \"location\": \"21 New Globe Walk\",\n",
    "        \"vendor\": \"Cisco\",\n",
    "        \"model\": \"4451\",\n",
    "        \"ios\": \"15.4\",\n",
    "        \"ip\": \"10.255.0.1\",\n",
    "    },\n",
    "    \"r2\": {\n",
    "        \"location\": \"21 New Globe Walk\",\n",
    "        \"vendor\": \"Cisco\",\n",
    "        \"model\": \"4451\",\n",
    "        \"ios\": \"15.4\",\n",
    "        \"ip\": \"10.255.0.2\",\n",
    "    },\n",
    "    \"sw1\": {\n",
    "        \"location\": \"21 New Globe Walk\",\n",
    "        \"vendor\": \"Cisco\",\n",
    "        \"model\": \"3850\",\n",
    "        \"ios\": \"3.6.XE\",\n",
    "        \"ip\": \"10.255.0.101\",\n",
    "        \"vlans\": \"10,20,30\",\n",
    "        \"routing\": True,\n",
    "    },\n",
    "}\n"
   ]
  },
  {
   "cell_type": "code",
   "execution_count": 35,
   "id": "bbac8fe9",
   "metadata": {},
   "outputs": [
    {
     "name": "stdout",
     "output_type": "stream",
     "text": [
      "Введите имя устройства: r1\n",
      "Введите имя параметра dict_keys(['location', 'vendor', 'model', 'ios', 'ip']): IP\n",
      "Такого параметра нет\n"
     ]
    }
   ],
   "source": [
    "device = input('Введите имя устройства: ')\n",
    "param = input('Введите имя параметра {}: '.format(str(london_co[device].keys())))\n",
    "print(london_co[device].get(param,'Такого параметра нет'))"
   ]
  },
  {
   "cell_type": "code",
   "execution_count": 32,
   "id": "1ee21a8b",
   "metadata": {},
   "outputs": [],
   "source": [
    "# -*- coding: utf-8 -*-\n",
    "\"\"\"\n",
    "Задание 5.1d\n",
    "\n",
    "Переделать скрипт из задания 5.1c таким образом, чтобы, при запросе параметра,\n",
    "пользователь мог вводить название параметра в любом регистре.\n",
    "\n",
    "Пример выполнения скрипта:\n",
    "$ python task_5_1d.py\n",
    "Введите имя устройства: r1\n",
    "Введите имя параметра (ios, model, vendor, location, ip): IOS\n",
    "15.4\n",
    "\n",
    "\n",
    "Ограничение: нельзя изменять словарь london_co.\n",
    "\n",
    "Все задания надо выполнять используя только пройденные темы. То есть эту задачу можно\n",
    "решить без использования условия if.\n",
    "\"\"\"\n",
    "\n",
    "london_co = {\n",
    "    \"r1\": {\n",
    "        \"location\": \"21 New Globe Walk\",\n",
    "        \"vendor\": \"Cisco\",\n",
    "        \"model\": \"4451\",\n",
    "        \"ios\": \"15.4\",\n",
    "        \"ip\": \"10.255.0.1\",\n",
    "    },\n",
    "    \"r2\": {\n",
    "        \"location\": \"21 New Globe Walk\",\n",
    "        \"vendor\": \"Cisco\",\n",
    "        \"model\": \"4451\",\n",
    "        \"ios\": \"15.4\",\n",
    "        \"ip\": \"10.255.0.2\",\n",
    "    },\n",
    "    \"sw1\": {\n",
    "        \"location\": \"21 New Globe Walk\",\n",
    "        \"vendor\": \"Cisco\",\n",
    "        \"model\": \"3850\",\n",
    "        \"ios\": \"3.6.XE\",\n",
    "        \"ip\": \"10.255.0.101\",\n",
    "        \"vlans\": \"10,20,30\",\n",
    "        \"routing\": True,\n",
    "    },\n",
    "}\n"
   ]
  },
  {
   "cell_type": "code",
   "execution_count": 34,
   "id": "5c949c7b",
   "metadata": {},
   "outputs": [
    {
     "name": "stdout",
     "output_type": "stream",
     "text": [
      "Введите имя устройства: r1\n",
      "Введите имя параметра dict_keys(['location', 'vendor', 'model', 'ios', 'ip']): IP\n",
      "10.255.0.1\n"
     ]
    }
   ],
   "source": [
    "device = input('Введите имя устройства: ')\n",
    "param = input('Введите имя параметра {}: '.format(str(london_co[device].keys())))\n",
    "print(london_co[device].get(param.lower(),'Такого параметра нет'))"
   ]
  },
  {
   "cell_type": "code",
   "execution_count": null,
   "id": "7ba3f982",
   "metadata": {},
   "outputs": [],
   "source": []
  }
 ],
 "metadata": {
  "kernelspec": {
   "display_name": "Python 3 (ipykernel)",
   "language": "python",
   "name": "python3"
  },
  "language_info": {
   "codemirror_mode": {
    "name": "ipython",
    "version": 3
   },
   "file_extension": ".py",
   "mimetype": "text/x-python",
   "name": "python",
   "nbconvert_exporter": "python",
   "pygments_lexer": "ipython3",
   "version": "3.9.7"
  }
 },
 "nbformat": 4,
 "nbformat_minor": 5
}
