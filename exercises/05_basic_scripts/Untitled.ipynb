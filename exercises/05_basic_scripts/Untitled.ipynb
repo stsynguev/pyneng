{
 "cells": [
  {
   "cell_type": "code",
   "execution_count": 1,
   "id": "dd6b5afe",
   "metadata": {},
   "outputs": [
    {
     "name": "stdout",
     "output_type": "stream",
     "text": [
      "switchport mode access\n",
      "switchport access vlan 5\n",
      "switchport nonegotiate\n",
      "spanning-tree portfast\n",
      "spanning-tree bpduguard enable\n"
     ]
    }
   ],
   "source": [
    "access_template = ['switchport mode access',\n",
    "'switchport access vlan {}',\n",
    "'switchport nonegotiate',\n",
    "'spanning-tree portfast',\n",
    "'spanning-tree bpduguard enable']\n",
    "print('\\n'.join(access_template).format(5))"
   ]
  },
  {
   "cell_type": "code",
   "execution_count": null,
   "id": "9996543e",
   "metadata": {},
   "outputs": [],
   "source": []
  },
  {
   "cell_type": "code",
   "execution_count": null,
   "id": "003ec6b4",
   "metadata": {},
   "outputs": [],
   "source": []
  }
 ],
 "metadata": {
  "kernelspec": {
   "display_name": "Python 3 (ipykernel)",
   "language": "python",
   "name": "python3"
  },
  "language_info": {
   "codemirror_mode": {
    "name": "ipython",
    "version": 3
   },
   "file_extension": ".py",
   "mimetype": "text/x-python",
   "name": "python",
   "nbconvert_exporter": "python",
   "pygments_lexer": "ipython3",
   "version": "3.9.7"
  }
 },
 "nbformat": 4,
 "nbformat_minor": 5
}
