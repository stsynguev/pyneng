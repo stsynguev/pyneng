{
 "cells": [
  {
   "cell_type": "code",
   "execution_count": 3,
   "id": "7238446a",
   "metadata": {},
   "outputs": [
    {
     "name": "stdout",
     "output_type": "stream",
     "text": [
      "a is more to 10\n"
     ]
    }
   ],
   "source": [
    "a = 123\n",
    "if a == 10:\n",
    "    print('a is equal to 10')\n",
    "elif a<10:\n",
    "    print('a is less than 10')\n",
    "else:\n",
    "    print('a is more to 10')"
   ]
  },
  {
   "cell_type": "code",
   "execution_count": 9,
   "id": "8afb22f1",
   "metadata": {},
   "outputs": [
    {
     "name": "stdout",
     "output_type": "stream",
     "text": [
      "a is equal to 10\n"
     ]
    }
   ],
   "source": [
    "a = 10\n",
    "if a:\n",
    "    print('a is equal to 10')\n",
    "else:\n",
    "    print('a is zero')"
   ]
  },
  {
   "cell_type": "code",
   "execution_count": 10,
   "id": "0d27f9fe",
   "metadata": {},
   "outputs": [
    {
     "data": {
      "text/plain": [
       "True"
      ]
     },
     "execution_count": 10,
     "metadata": {},
     "output_type": "execute_result"
    }
   ],
   "source": [
    "'Fast' in 'FastEater' "
   ]
  },
  {
   "cell_type": "code",
   "execution_count": 12,
   "id": "a04529a8",
   "metadata": {},
   "outputs": [
    {
     "data": {
      "text/plain": [
       "True"
      ]
     },
     "execution_count": 12,
     "metadata": {},
     "output_type": "execute_result"
    }
   ],
   "source": [
    "vlan = [1,2,3,4,5]\n",
    "1 in vlan\n"
   ]
  },
  {
   "cell_type": "code",
   "execution_count": 17,
   "id": "a2afec7a",
   "metadata": {},
   "outputs": [
    {
     "data": {
      "text/plain": [
       "[1, 2, 3, 4, 5]"
      ]
     },
     "execution_count": 17,
     "metadata": {},
     "output_type": "execute_result"
    }
   ],
   "source": [
    "r1 = {\n",
    "    'IOS' : '15.4',\n",
    "    'IP' : '10.255.0.1',\n",
    "    'hostname' : 'london_r1',\n",
    "    'location' : 'Acton',\n",
    "    'model' : '4451',\n",
    "    'vendor' : 'Cisco'\n",
    "}\n",
    "'IOS' in r1\n"
   ]
  },
  {
   "cell_type": "code",
   "execution_count": 24,
   "id": "86edd7f5",
   "metadata": {},
   "outputs": [
    {
     "data": {
      "text/plain": [
       "True"
      ]
     },
     "execution_count": 24,
     "metadata": {},
     "output_type": "execute_result"
    }
   ],
   "source": [
    "not 10 in vlan\n",
    "    \n",
    "\n"
   ]
  },
  {
   "cell_type": "code",
   "execution_count": 25,
   "id": "970f3f3a",
   "metadata": {},
   "outputs": [
    {
     "data": {
      "text/plain": [
       "'b'"
      ]
     },
     "execution_count": 25,
     "metadata": {},
     "output_type": "execute_result"
    }
   ],
   "source": [
    "'a' and 'b'"
   ]
  },
  {
   "cell_type": "code",
   "execution_count": 29,
   "id": "29c0e075",
   "metadata": {},
   "outputs": [
    {
     "data": {
      "text/plain": [
       "0"
      ]
     },
     "execution_count": 29,
     "metadata": {},
     "output_type": "execute_result"
    }
   ],
   "source": [
    "'b' and 0"
   ]
  },
  {
   "cell_type": "code",
   "execution_count": 30,
   "id": "28289a40",
   "metadata": {},
   "outputs": [
    {
     "data": {
      "text/plain": [
       "[1, 2, 3, 4, 5]"
      ]
     },
     "execution_count": 30,
     "metadata": {},
     "output_type": "execute_result"
    }
   ],
   "source": [
    "vlan\n"
   ]
  },
  {
   "cell_type": "code",
   "execution_count": 34,
   "id": "24c8ed6b",
   "metadata": {},
   "outputs": [
    {
     "data": {
      "text/plain": [
       "True"
      ]
     },
     "execution_count": 34,
     "metadata": {},
     "output_type": "execute_result"
    }
   ],
   "source": [
    "res = True if len(vlan) == 5 else False\n",
    "res"
   ]
  },
  {
   "cell_type": "code",
   "execution_count": null,
   "id": "064cb879",
   "metadata": {},
   "outputs": [],
   "source": []
  }
 ],
 "metadata": {
  "kernelspec": {
   "display_name": "Python 3 (ipykernel)",
   "language": "python",
   "name": "python3"
  },
  "language_info": {
   "codemirror_mode": {
    "name": "ipython",
    "version": 3
   },
   "file_extension": ".py",
   "mimetype": "text/x-python",
   "name": "python",
   "nbconvert_exporter": "python",
   "pygments_lexer": "ipython3",
   "version": "3.9.7"
  }
 },
 "nbformat": 4,
 "nbformat_minor": 5
}
