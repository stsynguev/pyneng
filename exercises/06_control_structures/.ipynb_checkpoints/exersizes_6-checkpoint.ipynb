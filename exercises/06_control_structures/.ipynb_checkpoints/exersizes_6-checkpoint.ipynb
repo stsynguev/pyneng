{
 "cells": [
  {
   "cell_type": "code",
   "execution_count": 1,
   "id": "2ffdfe95",
   "metadata": {},
   "outputs": [],
   "source": [
    "\"\"\"\n",
    "Задание 6.1\n",
    "\n",
    "Список mac содержит MAC-адреса в формате XXXX:XXXX:XXXX Однако, в оборудовании Cisco\n",
    "MAC-адреса используются в формате XXXX.XXXX.XXXX\n",
    "\n",
    "Написать код, который преобразует MAC-адреса в формат cisco и добавляет их в новый\n",
    "список result.\n",
    "Полученный список result вывести на стандартный поток вывода (stdout) с помощью print.\n",
    "\n",
    "Ограничение: Все задания надо выполнять используя только пройденные темы.\n",
    "\"\"\"\n",
    "\n",
    "mac = [\"aabb:cc80:7000\", \"aabb:dd80:7340\", \"aabb:ee80:7000\", \"aabb:ff80:7000\"]"
   ]
  },
  {
   "cell_type": "code",
   "execution_count": 2,
   "id": "d7dc04a2",
   "metadata": {},
   "outputs": [
    {
     "name": "stdout",
     "output_type": "stream",
     "text": [
      "['aabb.cc80.7000', 'aabb.dd80.7340', 'aabb.ee80.7000', 'aabb.ff80.7000']\n"
     ]
    }
   ],
   "source": [
    "result = [e.replace(':','.') for e in mac]\n",
    "print(result)"
   ]
  },
  {
   "cell_type": "code",
   "execution_count": 4,
   "id": "26885449",
   "metadata": {},
   "outputs": [
    {
     "name": "stdout",
     "output_type": "stream",
     "text": [
      "Введите адрес: 1.1.1.\n",
      "unicast\n"
     ]
    }
   ],
   "source": [
    "# -*- coding: utf-8 -*-\n",
    "\"\"\"\n",
    "Задание 6.2\n",
    "\n",
    "Запросить у пользователя ввод IP-адреса в формате 10.0.1.1\n",
    "В зависимости от типа адреса (описаны ниже), вывести на стандартный поток вывода:\n",
    "   'unicast' - если первый байт в диапазоне 1-223\n",
    "   'multicast' - если первый байт в диапазоне 224-239\n",
    "   'local broadcast' - если IP-адрес равен 255.255.255.255\n",
    "   'unassigned' - если IP-адрес равен 0.0.0.0\n",
    "   'unused' - во всех остальных случаях\n",
    "\n",
    "Ограничение: Все задания надо выполнять используя только пройденные темы.\n",
    "\"\"\"\n",
    "ip = input('Введите адрес: ')\n",
    "if int(ip.split('.')[0]) in range(1,223)  :\n",
    "    print ('unicast')\n",
    "elif int(ip.split('.')[0]) in range(224,239) :\n",
    "    print ('multicast')\n",
    "elif ip == '255.255.255.255' :\n",
    "    print ('local broadcast')\n",
    "elif ip == '0.0.0.0' :\n",
    "    print ('local broadcast')\n",
    "else :\n",
    "    print ('unused')\n",
    "\n",
    "         "
   ]
  },
  {
   "cell_type": "code",
   "execution_count": 5,
   "id": "12ce6100",
   "metadata": {},
   "outputs": [
    {
     "name": "stdout",
     "output_type": "stream",
     "text": [
      "\n",
      "неправильный IP-адрес\n"
     ]
    }
   ],
   "source": [
    "# -*- coding: utf-8 -*-\n",
    "\"\"\"\n",
    "Задание 6.2a\n",
    "\n",
    "Сделать копию скрипта задания 6.2.\n",
    "\n",
    "Добавить проверку введенного IP-адреса.\n",
    "Адрес считается корректно заданным, если он:\n",
    "   - состоит из 4 чисел (а не букв или других символов)\n",
    "   - числа разделенны точкой\n",
    "   - каждое число в диапазоне от 0 до 255\n",
    "\n",
    "Если адрес задан неправильно, выводить сообщение: 'Неправильный IP-адрес'\n",
    "\n",
    "Сообщение \"Неправильный IP-адрес\" должно выводиться только один раз,\n",
    "даже если несколько пунктов выше не выполнены.\n",
    "\n",
    "Ограничение: Все задания надо выполнять используя только пройденные темы.\n",
    "\"\"\"\n",
    "\n",
    "ip = input('Введите адрес: ')\n",
    "list_ip = ip.split('.')\n",
    "if len(list_ip) == 4 :\n",
    "    for i in range(4) :\n",
    "        if list_ip[i].isdigit() :\n",
    "            if int(list_ip[i]) in range(0,256) :\n",
    "                flag = True\n",
    "            else :\n",
    "                flag = False\n",
    "                break\n",
    "        else :\n",
    "            flag = False\n",
    "            break\n",
    "else : \n",
    "    flag = False\n",
    "if flag == False :\n",
    "    print('неправильный IP-адрес')\n",
    "else:\n",
    "    if int(ip.split('.')[0]) in range(1,223)  :\n",
    "        print ('unicast')\n",
    "    elif int(ip.split('.')[0]) in range(224,239) :\n",
    "        print ('multicast')\n",
    "    elif ip == '255.255.255.255' :\n",
    "        print ('local broadcast')\n",
    "    elif ip == '0.0.0.0' :\n",
    "        print ('unassigned')\n",
    "    else :\n",
    "        print ('unused')"
   ]
  },
  {
   "cell_type": "code",
   "execution_count": 95,
   "id": "5410d555",
   "metadata": {},
   "outputs": [
    {
     "name": "stdout",
     "output_type": "stream",
     "text": [
      "Введите адрес: -1.1.1.1\n",
      "Неправильный IP-адрес\n",
      "Введите адрес: 1.1.1.1\n",
      "unicast\n"
     ]
    }
   ],
   "source": [
    "# -*- coding: utf-8 -*-\n",
    "\"\"\"\n",
    "Задание 6.2b\n",
    "\n",
    "Сделать копию скрипта задания 6.2a.\n",
    "\n",
    "Дополнить скрипт:\n",
    "Если адрес был введен неправильно, запросить адрес снова.\n",
    "Если адрес задан неправильно, выводить сообщение: 'Неправильный IP-адрес'\n",
    "Сообщение \"Неправильный IP-адрес\" должно выводиться только один раз,\n",
    "даже если несколько пунктов выше не выполнены.\n",
    "\n",
    "Ограничение: Все задания надо выполнять используя только пройденные темы.\n",
    "\"\"\"\n",
    "flag = False\n",
    "while flag == False :\n",
    "    try:\n",
    "        ip = input('Введите адрес: ')\n",
    "        list_ip = ip.split('.')\n",
    "        check = 1/(4-len(list_ip))\n",
    "        flag = False\n",
    "    except (ZeroDivisionError) :\n",
    "        flag = True\n",
    "        try:\n",
    "            first_octet = int(list_ip[0])\n",
    "            for i in range(0,4):\n",
    "                if int(list_ip[i]) > 255 or int(list_ip[i]) < 0:\n",
    "                    flag = False\n",
    "                    break\n",
    "        except(ValueError):\n",
    "            flag = False\n",
    "    finally:\n",
    "        if flag == False:\n",
    "            print('Неправильный IP-адрес')       \n",
    "        \n",
    "if flag :\n",
    "    if first_octet in range(1,224) :\n",
    "        print ('unicast')\n",
    "    elif first_octet in range(224,240) :\n",
    "        print ('multicast')\n",
    "    elif ip == '255.255.255.255' :\n",
    "        print ('local broadcast')\n",
    "    elif ip == '0.0.0.0' :\n",
    "        print ('unassigned')\n",
    "    else :\n",
    "        print ('unused')\n"
   ]
  },
  {
   "cell_type": "code",
   "execution_count": 51,
   "id": "6ad44e03",
   "metadata": {},
   "outputs": [
    {
     "name": "stdout",
     "output_type": "stream",
     "text": [
      "interface FastEthernet0/1\n",
      " switchport trunk encapsulation dot1q\n",
      " switchport mode trunk\n",
      " switchport trunk allowed vlan add 10,20\n",
      "interface FastEthernet0/2\n",
      " switchport trunk encapsulation dot1q\n",
      " switchport mode trunk\n",
      " switchport trunk allowed vlan 11,30\n",
      "interface FastEthernet0/4\n",
      " switchport trunk encapsulation dot1q\n",
      " switchport mode trunk\n",
      " switchport trunk allowed vlan remove 17\n",
      "interface FastEthernet0/5\n",
      " switchport trunk encapsulation dot1q\n",
      " switchport mode trunk\n",
      " switchport trunk allowed vlan add 10,21\n",
      "interface FastEthernet0/7\n",
      " switchport trunk encapsulation dot1q\n",
      " switchport mode trunk\n",
      " switchport trunk allowed vlan 30\n"
     ]
    }
   ],
   "source": [
    "# -*- coding: utf-8 -*-\n",
    "\"\"\"\n",
    "Задание 6.3\n",
    "\n",
    "В скрипте сделан генератор конфигурации для access-портов.\n",
    "Сделать аналогичный генератор конфигурации для портов trunk.\n",
    "\n",
    "В транках ситуация усложняется тем, что VLANов может быть много, и надо понимать,\n",
    "что с ними делать (добавлять, удалять, перезаписывать).\n",
    "\n",
    "Поэтому в соответствии каждому порту стоит список и первый (нулевой) элемент списка\n",
    "указывает как воспринимать номера VLAN, которые идут дальше.\n",
    "\n",
    "Пример значения и соответствующей команды:\n",
    "* ['add', '10', '20'] - команда switchport trunk allowed vlan add 10,20\n",
    "* ['del', '17'] - команда switchport trunk allowed vlan remove 17\n",
    "* ['only', '11', '30'] - команда switchport trunk allowed vlan 11,30\n",
    "\n",
    "Задача для портов 0/1, 0/2, 0/4, 0/5, 0/7:\n",
    "- сгенерировать конфигурацию на основе шаблона trunk_template\n",
    "- с учетом ключевых слов add, del, only\n",
    "\n",
    "Код не должен привязываться к конкретным номерам портов. То есть,\n",
    "если в словаре trunk будут другие номера интерфейсов, код должен работать.\n",
    "\n",
    "Для данных в словаре trunk_template вывод на\n",
    "стандартный поток вывода должен быть таким:\n",
    "interface FastEthernet0/1\n",
    " switchport trunk encapsulation dot1q\n",
    " switchport mode trunk\n",
    " switchport trunk allowed vlan add 10,20\n",
    "interface FastEthernet0/2\n",
    " switchport trunk encapsulation dot1q\n",
    " switchport mode trunk\n",
    " switchport trunk allowed vlan 11,30\n",
    "interface FastEthernet0/4\n",
    " switchport trunk encapsulation dot1q\n",
    " switchport mode trunk\n",
    " switchport trunk allowed vlan remove 17\n",
    "interface FastEthernet0/5\n",
    " switchport trunk encapsulation dot1q\n",
    " switchport mode trunk\n",
    " switchport trunk allowed vlan add 10,21\n",
    "interface FastEthernet0/7\n",
    " switchport trunk encapsulation dot1q\n",
    " switchport mode trunk\n",
    " switchport trunk allowed vlan 30\n",
    "\n",
    "\n",
    "Ограничение: Все задания надо выполнять используя только пройденные темы.\n",
    "На стандартный поток вывода надо выводить только команды trunk настройки,\n",
    "а access закомментировать.\n",
    "\"\"\"\n",
    "\n",
    "access_template = [\n",
    "    \"switchport mode access\",\n",
    "    \"switchport access vlan\",\n",
    "    \"spanning-tree portfast\",\n",
    "    \"spanning-tree bpduguard enable\",\n",
    "]\n",
    "\n",
    "trunk_template = [\n",
    "    \"switchport trunk encapsulation dot1q\",\n",
    "    \"switchport mode trunk\",\n",
    "    \"switchport trunk allowed vlan\",\n",
    "]\n",
    "\n",
    "access = {\"0/12\": \"10\", \"0/14\": \"11\", \"0/16\": \"17\", \"0/17\": \"150\"}\n",
    "trunk = {\n",
    "    \"0/1\": [\"add\", \"10\", \"20\"],\n",
    "    \"0/2\": [\"only\", \"11\", \"30\"],\n",
    "    \"0/4\": [\"del\", \"17\"],\n",
    "    \"0/5\": [\"add\", \"10\", \"21\"],\n",
    "    \"0/7\": [\"only\", \"30\"],\n",
    "}\n",
    "\n",
    "for intf, vlan in trunk.items():\n",
    "    print(\"interface FastEthernet\" + intf)\n",
    "    for command in trunk_template:\n",
    "        if (command.endswith(\" vlan\")) :\n",
    "            if trunk[intf][0] == \"add\" :\n",
    "                print(f\" {command} add {','.join(trunk[intf][1:])}\")\n",
    "            elif  trunk[intf][0] == \"del\" :\n",
    "                print(f\" {command} remove {','.join(trunk[intf][1:])}\")\n",
    "            else :\n",
    "                print(f\" {command} {','.join(trunk[intf][1:])}\")\n",
    "        else :\n",
    "            print(f\" {command}\")"
   ]
  },
  {
   "cell_type": "code",
   "execution_count": 27,
   "id": "c56e68e2",
   "metadata": {},
   "outputs": [
    {
     "data": {
      "text/plain": [
       "False"
      ]
     },
     "execution_count": 27,
     "metadata": {},
     "output_type": "execute_result"
    }
   ],
   "source": [
    "'30,1'.isdigit()"
   ]
  },
  {
   "cell_type": "code",
   "execution_count": null,
   "id": "16e9a4ce",
   "metadata": {},
   "outputs": [],
   "source": []
  },
  {
   "cell_type": "code",
   "execution_count": null,
   "id": "8ad838e6",
   "metadata": {},
   "outputs": [],
   "source": []
  }
 ],
 "metadata": {
  "kernelspec": {
   "display_name": "Python 3 (ipykernel)",
   "language": "python",
   "name": "python3"
  },
  "language_info": {
   "codemirror_mode": {
    "name": "ipython",
    "version": 3
   },
   "file_extension": ".py",
   "mimetype": "text/x-python",
   "name": "python",
   "nbconvert_exporter": "python",
   "pygments_lexer": "ipython3",
   "version": "3.9.7"
  }
 },
 "nbformat": 4,
 "nbformat_minor": 5
}
