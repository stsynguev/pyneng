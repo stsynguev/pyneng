{
 "cells": [
  {
   "cell_type": "code",
   "execution_count": null,
   "id": "70b8985d",
   "metadata": {},
   "outputs": [],
   "source": [
    "# -*- coding: utf-8 -*-\n",
    "\"\"\"\n",
    "Задание 7.1\n",
    "\n",
    "Обработать строки из файла ospf.txt и вывести информацию по каждой строке в таком\n",
    "виде на стандартный поток вывода:\n",
    "\n",
    "Prefix                10.0.24.0/24\n",
    "AD/Metric             110/41\n",
    "Next-Hop              10.0.13.3\n",
    "Last update           3d18h\n",
    "Outbound Interface    FastEthernet0/0\n",
    "\n",
    "Ограничение: Все задания надо выполнять используя только пройденные темы.\n",
    "\n",
    "\"\"\"\n"
   ]
  }
 ],
 "metadata": {
  "kernelspec": {
   "display_name": "Python 3 (ipykernel)",
   "language": "python",
   "name": "python3"
  },
  "language_info": {
   "codemirror_mode": {
    "name": "ipython",
    "version": 3
   },
   "file_extension": ".py",
   "mimetype": "text/x-python",
   "name": "python",
   "nbconvert_exporter": "python",
   "pygments_lexer": "ipython3",
   "version": "3.9.7"
  }
 },
 "nbformat": 4,
 "nbformat_minor": 5
}
