{
 "cells": [
  {
   "cell_type": "code",
   "execution_count": 1,
   "id": "30e7a424",
   "metadata": {},
   "outputs": [],
   "source": [
    "file = open('CAM_table.txt','r')"
   ]
  },
  {
   "cell_type": "code",
   "execution_count": 2,
   "id": "d9d8605f",
   "metadata": {},
   "outputs": [
    {
     "data": {
      "text/plain": [
       "<_io.TextIOWrapper name='CAM_table.txt' mode='r' encoding='UTF-8'>"
      ]
     },
     "execution_count": 2,
     "metadata": {},
     "output_type": "execute_result"
    }
   ],
   "source": [
    "file"
   ]
  },
  {
   "cell_type": "code",
   "execution_count": 3,
   "id": "1cedffd7",
   "metadata": {},
   "outputs": [
    {
     "data": {
      "text/plain": [
       "'sw1#sh mac address-table \\n          Mac Address Table\\n-------------------------------------------\\n\\nVlan    Mac Address       Type        Ports\\n----    -----------       --------    -----\\n 100    01bb.c580.7000    DYNAMIC     Gi0/1\\n 200    0a4b.c380.7c00    DYNAMIC     Gi0/2\\n 300    a2ab.c5a0.700e    DYNAMIC     Gi0/3\\n 10     0a1b.1c80.7000    DYNAMIC     Gi0/4\\n 500    02b1.3c80.7b00    DYNAMIC     Gi0/5\\n 200    1a4b.c580.7000    DYNAMIC     Gi0/6\\n 300    0a1b.5c80.70f0    DYNAMIC     Gi0/7\\n 10     01ab.c5d0.70d0    DYNAMIC     Gi0/8\\n 1000   0a4b.c380.7d00    DYNAMIC     Gi0/9\\n'"
      ]
     },
     "execution_count": 3,
     "metadata": {},
     "output_type": "execute_result"
    }
   ],
   "source": [
    "file.read()"
   ]
  },
  {
   "cell_type": "code",
   "execution_count": 7,
   "id": "168f4670",
   "metadata": {},
   "outputs": [
    {
     "data": {
      "text/plain": [
       "'sw1#sh mac address-table \\n          Mac Address Table\\n-------------------------------------------\\n\\nVlan    Mac Address       Type        Ports\\n----    -----------       --------    -----\\n 100    01bb.c580.7000    DYNAMIC     Gi0/1\\n 200    0a4b.c380.7c00    DYNAMIC     Gi0/2\\n 300    a2ab.c5a0.700e    DYNAMIC     Gi0/3\\n 10     0a1b.1c80.7000    DYNAMIC     Gi0/4\\n 500    02b1.3c80.7b00    DYNAMIC     Gi0/5\\n 200    1a4b.c580.7000    DYNAMIC     Gi0/6\\n 300    0a1b.5c80.70f0    DYNAMIC     Gi0/7\\n 10     01ab.c5d0.70d0    DYNAMIC     Gi0/8\\n 1000   0a4b.c380.7d00    DYNAMIC     Gi0/9\\n'"
      ]
     },
     "execution_count": 7,
     "metadata": {},
     "output_type": "execute_result"
    }
   ],
   "source": [
    "file.read()"
   ]
  },
  {
   "cell_type": "code",
   "execution_count": 8,
   "id": "24279158",
   "metadata": {},
   "outputs": [
    {
     "data": {
      "text/plain": [
       "0"
      ]
     },
     "execution_count": 8,
     "metadata": {},
     "output_type": "execute_result"
    }
   ],
   "source": [
    "file.seek(0)"
   ]
  },
  {
   "cell_type": "code",
   "execution_count": 9,
   "id": "c8ea857a",
   "metadata": {},
   "outputs": [
    {
     "data": {
      "text/plain": [
       "'sw1#sh mac address-table \\n'"
      ]
     },
     "execution_count": 9,
     "metadata": {},
     "output_type": "execute_result"
    }
   ],
   "source": [
    "file.readline()"
   ]
  },
  {
   "cell_type": "code",
   "execution_count": 10,
   "id": "911e998f",
   "metadata": {},
   "outputs": [
    {
     "name": "stdout",
     "output_type": "stream",
     "text": [
      "          Mac Address Table\n",
      "\n",
      "-------------------------------------------\n",
      "\n",
      "\n",
      "\n",
      "Vlan    Mac Address       Type        Ports\n",
      "\n",
      "----    -----------       --------    -----\n",
      "\n",
      " 100    01bb.c580.7000    DYNAMIC     Gi0/1\n",
      "\n",
      " 200    0a4b.c380.7c00    DYNAMIC     Gi0/2\n",
      "\n",
      " 300    a2ab.c5a0.700e    DYNAMIC     Gi0/3\n",
      "\n",
      " 10     0a1b.1c80.7000    DYNAMIC     Gi0/4\n",
      "\n",
      " 500    02b1.3c80.7b00    DYNAMIC     Gi0/5\n",
      "\n",
      " 200    1a4b.c580.7000    DYNAMIC     Gi0/6\n",
      "\n",
      " 300    0a1b.5c80.70f0    DYNAMIC     Gi0/7\n",
      "\n",
      " 10     01ab.c5d0.70d0    DYNAMIC     Gi0/8\n",
      "\n",
      " 1000   0a4b.c380.7d00    DYNAMIC     Gi0/9\n",
      "\n"
     ]
    }
   ],
   "source": [
    "for line in file : \n",
    "    print(line)\n"
   ]
  },
  {
   "cell_type": "code",
   "execution_count": 11,
   "id": "809375ab",
   "metadata": {},
   "outputs": [
    {
     "data": {
      "text/plain": [
       "[]"
      ]
     },
     "execution_count": 11,
     "metadata": {},
     "output_type": "execute_result"
    }
   ],
   "source": [
    "file.readlines()"
   ]
  },
  {
   "cell_type": "code",
   "execution_count": 13,
   "id": "3c26f568",
   "metadata": {},
   "outputs": [
    {
     "data": {
      "text/plain": [
       "0"
      ]
     },
     "execution_count": 13,
     "metadata": {},
     "output_type": "execute_result"
    }
   ],
   "source": [
    "file.seek(0)"
   ]
  },
  {
   "cell_type": "code",
   "execution_count": 14,
   "id": "1871824d",
   "metadata": {},
   "outputs": [
    {
     "data": {
      "text/plain": [
       "['sw1#sh mac address-table \\n',\n",
       " '          Mac Address Table\\n',\n",
       " '-------------------------------------------\\n',\n",
       " '\\n',\n",
       " 'Vlan    Mac Address       Type        Ports\\n',\n",
       " '----    -----------       --------    -----\\n',\n",
       " ' 100    01bb.c580.7000    DYNAMIC     Gi0/1\\n',\n",
       " ' 200    0a4b.c380.7c00    DYNAMIC     Gi0/2\\n',\n",
       " ' 300    a2ab.c5a0.700e    DYNAMIC     Gi0/3\\n',\n",
       " ' 10     0a1b.1c80.7000    DYNAMIC     Gi0/4\\n',\n",
       " ' 500    02b1.3c80.7b00    DYNAMIC     Gi0/5\\n',\n",
       " ' 200    1a4b.c580.7000    DYNAMIC     Gi0/6\\n',\n",
       " ' 300    0a1b.5c80.70f0    DYNAMIC     Gi0/7\\n',\n",
       " ' 10     01ab.c5d0.70d0    DYNAMIC     Gi0/8\\n',\n",
       " ' 1000   0a4b.c380.7d00    DYNAMIC     Gi0/9\\n']"
      ]
     },
     "execution_count": 14,
     "metadata": {},
     "output_type": "execute_result"
    }
   ],
   "source": [
    "file.readlines()"
   ]
  },
  {
   "cell_type": "code",
   "execution_count": 15,
   "id": "71ac5350",
   "metadata": {},
   "outputs": [],
   "source": [
    "mac_lines = ['sw1#sh mac address-table \\n',\n",
    " '          Mac Address Table\\n',\n",
    " '-------------------------------------------\\n',\n",
    " '\\n',\n",
    " 'Vlan    Mac Address       Type        Ports\\n',\n",
    " '----    -----------       --------    -----\\n',\n",
    " ' 100    01bb.c580.7000    DYNAMIC     Gi0/1\\n',\n",
    " ' 200    0a4b.c380.7c00    DYNAMIC     Gi0/2\\n',\n",
    " ' 300    a2ab.c5a0.700e    DYNAMIC     Gi0/3\\n',\n",
    " ' 10     0a1b.1c80.7000    DYNAMIC     Gi0/4\\n',\n",
    " ' 500    02b1.3c80.7b00    DYNAMIC     Gi0/5\\n',\n",
    " ' 200    1a4b.c580.7000    DYNAMIC     Gi0/6\\n',\n",
    " ' 300    0a1b.5c80.70f0    DYNAMIC     Gi0/7\\n',\n",
    " ' 10     01ab.c5d0.70d0    DYNAMIC     Gi0/8\\n',\n",
    " ' 1000   0a4b.c380.7d00    DYNAMIC     Gi0/9\\n']\n",
    "\n"
   ]
  },
  {
   "cell_type": "code",
   "execution_count": 23,
   "id": "a0e53b26",
   "metadata": {},
   "outputs": [],
   "source": [
    "file.close()\n",
    "f = open ('CAM_table.txt','w')\n"
   ]
  },
  {
   "cell_type": "code",
   "execution_count": 24,
   "id": "a4e45c8e",
   "metadata": {},
   "outputs": [],
   "source": [
    "f.writelines(mac_lines)"
   ]
  },
  {
   "cell_type": "code",
   "execution_count": 25,
   "id": "986f683b",
   "metadata": {},
   "outputs": [],
   "source": [
    "f.close()"
   ]
  },
  {
   "cell_type": "code",
   "execution_count": 26,
   "id": "19c8516a",
   "metadata": {},
   "outputs": [
    {
     "name": "stdout",
     "output_type": "stream",
     "text": [
      "sw1#sh mac address-table \r\n",
      "          Mac Address Table\r\n",
      "-------------------------------------------\r\n",
      "\r\n",
      "Vlan    Mac Address       Type        Ports\r\n",
      "----    -----------       --------    -----\r\n",
      " 100    01bb.c580.7000    DYNAMIC     Gi0/1\r\n",
      " 200    0a4b.c380.7c00    DYNAMIC     Gi0/2\r\n",
      " 300    a2ab.c5a0.700e    DYNAMIC     Gi0/3\r\n",
      " 10     0a1b.1c80.7000    DYNAMIC     Gi0/4\r\n",
      " 500    02b1.3c80.7b00    DYNAMIC     Gi0/5\r\n",
      " 200    1a4b.c580.7000    DYNAMIC     Gi0/6\r\n",
      " 300    0a1b.5c80.70f0    DYNAMIC     Gi0/7\r\n",
      " 10     01ab.c5d0.70d0    DYNAMIC     Gi0/8\r\n",
      " 1000   0a4b.c380.7d00    DYNAMIC     Gi0/9\r\n"
     ]
    }
   ],
   "source": [
    "%cat CAM_table.txt\n"
   ]
  },
  {
   "cell_type": "code",
   "execution_count": 27,
   "id": "821d534b",
   "metadata": {},
   "outputs": [
    {
     "data": {
      "text/plain": [
       "['sw1#sh mac address-table \\n',\n",
       " '          Mac Address Table\\n',\n",
       " '-------------------------------------------\\n',\n",
       " '\\n',\n",
       " 'Vlan    Mac Address       Type        Ports\\n',\n",
       " '----    -----------       --------    -----\\n',\n",
       " ' 100    01bb.c580.7000    DYNAMIC     Gi0/1\\n',\n",
       " ' 200    0a4b.c380.7c00    DYNAMIC     Gi0/2\\n',\n",
       " ' 300    a2ab.c5a0.700e    DYNAMIC     Gi0/3\\n',\n",
       " ' 10     0a1b.1c80.7000    DYNAMIC     Gi0/4\\n',\n",
       " ' 500    02b1.3c80.7b00    DYNAMIC     Gi0/5\\n',\n",
       " ' 200    1a4b.c580.7000    DYNAMIC     Gi0/6\\n',\n",
       " ' 300    0a1b.5c80.70f0    DYNAMIC     Gi0/7\\n',\n",
       " ' 10     01ab.c5d0.70d0    DYNAMIC     Gi0/8\\n',\n",
       " ' 1000   0a4b.c380.7d00    DYNAMIC     Gi0/9\\n']"
      ]
     },
     "execution_count": 27,
     "metadata": {},
     "output_type": "execute_result"
    }
   ],
   "source": [
    "mac_lines"
   ]
  },
  {
   "cell_type": "code",
   "execution_count": 28,
   "id": "2d433bc7",
   "metadata": {},
   "outputs": [
    {
     "data": {
      "text/plain": [
       "'sw1#sh mac address-table \\n          Mac Address Table\\n-------------------------------------------\\n\\nVlan    Mac Address       Type        Ports\\n----    -----------       --------    -----\\n 100    01bb.c580.7000    DYNAMIC     Gi0/1\\n 200    0a4b.c380.7c00    DYNAMIC     Gi0/2\\n 300    a2ab.c5a0.700e    DYNAMIC     Gi0/3\\n 10     0a1b.1c80.7000    DYNAMIC     Gi0/4\\n 500    02b1.3c80.7b00    DYNAMIC     Gi0/5\\n 200    1a4b.c580.7000    DYNAMIC     Gi0/6\\n 300    0a1b.5c80.70f0    DYNAMIC     Gi0/7\\n 10     01ab.c5d0.70d0    DYNAMIC     Gi0/8\\n 1000   0a4b.c380.7d00    DYNAMIC     Gi0/9\\n'"
      ]
     },
     "execution_count": 28,
     "metadata": {},
     "output_type": "execute_result"
    }
   ],
   "source": [
    "''.join(mac_lines)"
   ]
  },
  {
   "cell_type": "code",
   "execution_count": 30,
   "id": "8e933c5d",
   "metadata": {},
   "outputs": [],
   "source": [
    "f = open('CAM_table.txt','w')"
   ]
  },
  {
   "cell_type": "code",
   "execution_count": 31,
   "id": "2847f853",
   "metadata": {},
   "outputs": [
    {
     "data": {
      "text/plain": [
       "583"
      ]
     },
     "execution_count": 31,
     "metadata": {},
     "output_type": "execute_result"
    }
   ],
   "source": [
    "f.write(''.join(mac_lines))"
   ]
  },
  {
   "cell_type": "code",
   "execution_count": 32,
   "id": "0c5e6433",
   "metadata": {},
   "outputs": [],
   "source": [
    "f.close()"
   ]
  },
  {
   "cell_type": "code",
   "execution_count": 33,
   "id": "61524344",
   "metadata": {},
   "outputs": [
    {
     "name": "stdout",
     "output_type": "stream",
     "text": [
      "sw1#sh mac address-table \r\n",
      "          Mac Address Table\r\n",
      "-------------------------------------------\r\n",
      "\r\n",
      "Vlan    Mac Address       Type        Ports\r\n",
      "----    -----------       --------    -----\r\n",
      " 100    01bb.c580.7000    DYNAMIC     Gi0/1\r\n",
      " 200    0a4b.c380.7c00    DYNAMIC     Gi0/2\r\n",
      " 300    a2ab.c5a0.700e    DYNAMIC     Gi0/3\r\n",
      " 10     0a1b.1c80.7000    DYNAMIC     Gi0/4\r\n",
      " 500    02b1.3c80.7b00    DYNAMIC     Gi0/5\r\n",
      " 200    1a4b.c580.7000    DYNAMIC     Gi0/6\r\n",
      " 300    0a1b.5c80.70f0    DYNAMIC     Gi0/7\r\n",
      " 10     01ab.c5d0.70d0    DYNAMIC     Gi0/8\r\n",
      " 1000   0a4b.c380.7d00    DYNAMIC     Gi0/9\r\n"
     ]
    }
   ],
   "source": [
    "%cat CAM_table.txt"
   ]
  },
  {
   "cell_type": "code",
   "execution_count": 34,
   "id": "4db03cae",
   "metadata": {},
   "outputs": [
    {
     "data": {
      "text/plain": [
       "True"
      ]
     },
     "execution_count": 34,
     "metadata": {},
     "output_type": "execute_result"
    }
   ],
   "source": [
    "f.closed"
   ]
  },
  {
   "cell_type": "code",
   "execution_count": 37,
   "id": "4ec051e8",
   "metadata": {},
   "outputs": [
    {
     "name": "stdout",
     "output_type": "stream",
     "text": [
      "sw1#sh mac address-table\n",
      "          Mac Address Table\n",
      "-------------------------------------------\n",
      "\n",
      "Vlan    Mac Address       Type        Ports\n",
      "----    -----------       --------    -----\n",
      " 100    01bb.c580.7000    DYNAMIC     Gi0/1\n",
      " 200    0a4b.c380.7c00    DYNAMIC     Gi0/2\n",
      " 300    a2ab.c5a0.700e    DYNAMIC     Gi0/3\n",
      " 10     0a1b.1c80.7000    DYNAMIC     Gi0/4\n",
      " 500    02b1.3c80.7b00    DYNAMIC     Gi0/5\n",
      " 200    1a4b.c580.7000    DYNAMIC     Gi0/6\n",
      " 300    0a1b.5c80.70f0    DYNAMIC     Gi0/7\n",
      " 10     01ab.c5d0.70d0    DYNAMIC     Gi0/8\n",
      " 1000   0a4b.c380.7d00    DYNAMIC     Gi0/9\n"
     ]
    }
   ],
   "source": [
    "with open('CAM_table.txt','r') as f:\n",
    "    for line in f :\n",
    "        print(line.rstrip())"
   ]
  },
  {
   "cell_type": "code",
   "execution_count": null,
   "id": "51c5187f",
   "metadata": {},
   "outputs": [],
   "source": []
  }
 ],
 "metadata": {
  "kernelspec": {
   "display_name": "Python 3 (ipykernel)",
   "language": "python",
   "name": "python3"
  },
  "language_info": {
   "codemirror_mode": {
    "name": "ipython",
    "version": 3
   },
   "file_extension": ".py",
   "mimetype": "text/x-python",
   "name": "python",
   "nbconvert_exporter": "python",
   "pygments_lexer": "ipython3",
   "version": "3.9.7"
  }
 },
 "nbformat": 4,
 "nbformat_minor": 5
}
