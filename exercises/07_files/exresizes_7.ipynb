{
 "cells": [
  {
   "cell_type": "code",
   "execution_count": 3,
   "id": "b62e1e8d",
   "metadata": {},
   "outputs": [
    {
     "name": "stdout",
     "output_type": "stream",
     "text": [
      "O        10.0.24.0/24 [110/41] via 10.0.13.3, 3d18h, FastEthernet0/0\r\n",
      "O        10.0.28.0/24 [110/31] via 10.0.13.3, 3d20h, FastEthernet0/0\r\n",
      "O        10.0.37.0/24 [110/11] via 10.0.13.3, 3d20h, FastEthernet0/0\r\n",
      "O        10.0.41.0/24 [110/51] via 10.0.13.3, 3d20h, FastEthernet0/0\r\n",
      "O        10.0.78.0/24 [110/21] via 10.0.13.3, 3d20h, FastEthernet0/0\r\n",
      "O        10.0.79.0/24 [110/20] via 10.0.19.9, 4d02h, FastEthernet0/2\r\n"
     ]
    }
   ],
   "source": [
    "# -*- coding: utf-8 -*-\n",
    "\"\"\"\n",
    "Задание 7.1\n",
    "\n",
    "Обработать строки из файла ospf.txt и вывести информацию по каждой строке в таком\n",
    "виде на стандартный поток вывода:\n",
    "\n",
    "Prefix                10.0.24.0/24\n",
    "AD/Metric             110/41\n",
    "Next-Hop              10.0.13.3\n",
    "Last update           3d18h\n",
    "Outbound Interface    FastEthernet0/0\n",
    "\n",
    "Ограничение: Все задания надо выполнять используя только пройденные темы.\n",
    "\n",
    "\"\"\"\n",
    "%cat ospf.txt\n"
   ]
  },
  {
   "cell_type": "code",
   "execution_count": 60,
   "id": "b676d0d0",
   "metadata": {},
   "outputs": [
    {
     "ename": "ValueError",
     "evalue": "Sign not allowed in string format specifier",
     "output_type": "error",
     "traceback": [
      "\u001b[0;31m---------------------------------------------------------------------------\u001b[0m",
      "\u001b[0;31mValueError\u001b[0m                                Traceback (most recent call last)",
      "\u001b[0;32m/tmp/ipykernel_6365/3701402511.py\u001b[0m in \u001b[0;36m<module>\u001b[0;34m\u001b[0m\n\u001b[1;32m      1\u001b[0m \u001b[0;32mwith\u001b[0m \u001b[0mopen\u001b[0m\u001b[0;34m(\u001b[0m\u001b[0;34m'ospf.txt'\u001b[0m\u001b[0;34m,\u001b[0m\u001b[0;34m'r'\u001b[0m\u001b[0;34m)\u001b[0m \u001b[0;32mas\u001b[0m \u001b[0mf\u001b[0m \u001b[0;34m:\u001b[0m\u001b[0;34m\u001b[0m\u001b[0;34m\u001b[0m\u001b[0m\n\u001b[1;32m      2\u001b[0m     \u001b[0;32mfor\u001b[0m \u001b[0mline\u001b[0m \u001b[0;32min\u001b[0m \u001b[0mf\u001b[0m \u001b[0;34m:\u001b[0m\u001b[0;34m\u001b[0m\u001b[0;34m\u001b[0m\u001b[0m\n\u001b[0;32m----> 3\u001b[0;31m         \u001b[0mprint\u001b[0m\u001b[0;34m(\u001b[0m\u001b[0;34mf\"Prefix {line.split()[1]:<-50}\"\u001b[0m\u001b[0;34m)\u001b[0m\u001b[0;34m\u001b[0m\u001b[0;34m\u001b[0m\u001b[0m\n\u001b[0m\u001b[1;32m      4\u001b[0m         \u001b[0mprint\u001b[0m\u001b[0;34m(\u001b[0m\u001b[0;34mf\"AD/Metric {line.split()[2].strip('[]')}\"\u001b[0m\u001b[0;34m)\u001b[0m\u001b[0;34m\u001b[0m\u001b[0;34m\u001b[0m\u001b[0m\n\u001b[1;32m      5\u001b[0m         \u001b[0mprint\u001b[0m\u001b[0;34m(\u001b[0m\u001b[0;34mf\"Next-Hop {line.split()[4].strip(',')}\"\u001b[0m\u001b[0;34m)\u001b[0m\u001b[0;34m\u001b[0m\u001b[0;34m\u001b[0m\u001b[0m\n",
      "\u001b[0;31mValueError\u001b[0m: Sign not allowed in string format specifier"
     ]
    }
   ],
   "source": [
    "with open('ospf.txt','r') as f :\n",
    "    for line in f :\n",
    "        print(f\"Prefix {line.split()[1]:<-50}\")\n",
    "        print(f\"AD/Metric {line.split()[2].strip('[]')}\")\n",
    "        print(f\"Next-Hop {line.split()[4].strip(',')}\")\n",
    "        print(f\"Last update {line.split()[5].strip(',')}\")\n",
    "        print(f\"Outbound Interface {line.split()[6]}\")\n",
    "        \n",
    "        \n",
    "        \n",
    "        \n",
    "    "
   ]
  },
  {
   "cell_type": "code",
   "execution_count": null,
   "id": "c50097cd",
   "metadata": {},
   "outputs": [],
   "source": []
  }
 ],
 "metadata": {
  "kernelspec": {
   "display_name": "Python 3 (ipykernel)",
   "language": "python",
   "name": "python3"
  },
  "language_info": {
   "codemirror_mode": {
    "name": "ipython",
    "version": 3
   },
   "file_extension": ".py",
   "mimetype": "text/x-python",
   "name": "python",
   "nbconvert_exporter": "python",
   "pygments_lexer": "ipython3",
   "version": "3.9.7"
  }
 },
 "nbformat": 4,
 "nbformat_minor": 5
}
